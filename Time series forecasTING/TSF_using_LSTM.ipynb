{
  "nbformat": 4,
  "nbformat_minor": 0,
  "metadata": {
    "colab": {
      "name": "TSF using LSTM.ipynb",
      "provenance": []
    },
    "kernelspec": {
      "name": "python3",
      "display_name": "Python 3"
    },
    "language_info": {
      "name": "python"
    }
  },
  "cells": [
    {
      "cell_type": "code",
      "metadata": {
        "colab": {
          "base_uri": "https://localhost:8080/"
        },
        "id": "HPA4A1lIi7Y8",
        "outputId": "a91a1c18-e456-468d-a796-a0c2bd1c3d04"
      },
      "source": [
        "from google.colab import drive\n",
        "drive.mount(\"/content/gdrive\")"
      ],
      "execution_count": 1,
      "outputs": [
        {
          "output_type": "stream",
          "text": [
            "Mounted at /content/gdrive\n"
          ],
          "name": "stdout"
        }
      ]
    },
    {
      "cell_type": "code",
      "metadata": {
        "colab": {
          "base_uri": "https://localhost:8080/"
        },
        "id": "piYej7UsjDOH",
        "outputId": "f9a101af-ea16-4bba-ebd2-b3f42bbf18d5"
      },
      "source": [
        "# Imports\n",
        "\n",
        "import numpy as np\n",
        "import pandas as pd\n",
        "import pandas.util.testing as tm\n",
        "import seaborn as sns\n",
        "import matplotlib.pyplot as plt\n",
        "plt.style.use('dark_background')"
      ],
      "execution_count": 2,
      "outputs": [
        {
          "output_type": "stream",
          "text": [
            "/usr/local/lib/python3.7/dist-packages/ipykernel_launcher.py:5: FutureWarning: pandas.util.testing is deprecated. Use the functions in the public API at pandas.testing instead.\n",
            "  \"\"\"\n"
          ],
          "name": "stderr"
        }
      ]
    },
    {
      "cell_type": "code",
      "metadata": {
        "id": "fMZ76M30jOpB"
      },
      "source": [
        "data = pd.read_csv('/content/gdrive/MyDrive/AirPassengers.csv')\n",
        "data = data.rename(columns={'#Passengers': 'Passengers'})\n",
        "data = data[\"Passengers\"]\n",
        "df = data.values\n",
        "df = df.astype('float32') "
      ],
      "execution_count": 8,
      "outputs": []
    },
    {
      "cell_type": "code",
      "metadata": {
        "id": "qGYhQhq2jShX"
      },
      "source": [
        "from keras.models import Sequential\n",
        "from keras.layers import Dense, SimpleRNN, LSTM, Activation, Flatten\n",
        "from keras.layers.convolutional_recurrent import ConvLSTM2D\n",
        "from sklearn.preprocessing import MinMaxScaler\n",
        "from sklearn.metrics import mean_squared_error"
      ],
      "execution_count": 47,
      "outputs": []
    },
    {
      "cell_type": "code",
      "metadata": {
        "id": "vowAK8o5kuTn"
      },
      "source": [
        "scaler = MinMaxScaler()\n",
        "df = df.reshape(-1, 1)  # reshaping for scaling\n",
        "scaler = MinMaxScaler() # optional for single feature\n",
        "df = scaler.fit_transform(df)"
      ],
      "execution_count": 9,
      "outputs": []
    },
    {
      "cell_type": "code",
      "metadata": {
        "colab": {
          "base_uri": "https://localhost:8080/"
        },
        "id": "EedXmi2fjj1Z",
        "outputId": "76299705-606e-452d-e6fa-13c06ec1798a"
      },
      "source": [
        "train_size = int(len(df) * 0.66)  #seq is imp\n",
        "test_size = len(df) - train_size\n",
        "train, test = df[0:train_size,:], df[train_size:len(df),:]\n",
        "train_size,test_size"
      ],
      "execution_count": 10,
      "outputs": [
        {
          "output_type": "execute_result",
          "data": {
            "text/plain": [
              "(95, 49)"
            ]
          },
          "metadata": {
            "tags": []
          },
          "execution_count": 10
        }
      ]
    },
    {
      "cell_type": "code",
      "metadata": {
        "colab": {
          "base_uri": "https://localhost:8080/"
        },
        "id": "1S5NDfxBmY1L",
        "outputId": "69ba74a0-9253-4aa1-a270-663bb3c161f9"
      },
      "source": [
        "from keras.preprocessing.sequence import TimeseriesGenerator # Generates batches for sequence data\n",
        "win_size = 10\n",
        "batch_size = 1\n",
        "train_generator = TimeseriesGenerator(train,train,length=win_size,batch_size=batch_size)\n",
        "len(train),len(train_generator)"
      ],
      "execution_count": 14,
      "outputs": [
        {
          "output_type": "execute_result",
          "data": {
            "text/plain": [
              "(95, 85)"
            ]
          },
          "metadata": {
            "tags": []
          },
          "execution_count": 14
        }
      ]
    },
    {
      "cell_type": "code",
      "metadata": {
        "id": "dcEQb-cNmbLw"
      },
      "source": [
        "validation_generator = TimeseriesGenerator(test, test, length=win_size ,batch_size=batch_size)"
      ],
      "execution_count": 20,
      "outputs": []
    },
    {
      "cell_type": "code",
      "metadata": {
        "id": "_YCWNw-NmfJZ"
      },
      "source": [
        "num_features = 1  # input"
      ],
      "execution_count": 21,
      "outputs": []
    },
    {
      "cell_type": "markdown",
      "metadata": {
        "id": "Jcz8djrLnvc-"
      },
      "source": [
        "### Simple RNN"
      ]
    },
    {
      "cell_type": "code",
      "metadata": {
        "colab": {
          "base_uri": "https://localhost:8080/"
        },
        "id": "yB13b3AGnX5K",
        "outputId": "ab68b7fa-9cc8-4dcf-b14f-4df9d47c371f"
      },
      "source": [
        "print('RNN Model...')\n",
        "model = Sequential()\n",
        "model.add(SimpleRNN(64, input_shape=(win_size,num_features), activation='relu'))\n",
        "model.add(Dense(1))\n",
        "model.compile(loss='mean_squared_error', optimizer='adam', metrics = ['accuracy'])\n",
        "print(model.summary()) "
      ],
      "execution_count": 29,
      "outputs": [
        {
          "output_type": "stream",
          "text": [
            "RNN Model...\n",
            "Model: \"sequential_1\"\n",
            "_________________________________________________________________\n",
            "Layer (type)                 Output Shape              Param #   \n",
            "=================================================================\n",
            "simple_rnn_1 (SimpleRNN)     (None, 64)                4224      \n",
            "_________________________________________________________________\n",
            "dense_1 (Dense)              (None, 1)                 65        \n",
            "=================================================================\n",
            "Total params: 4,289\n",
            "Trainable params: 4,289\n",
            "Non-trainable params: 0\n",
            "_________________________________________________________________\n",
            "None\n"
          ],
          "name": "stdout"
        }
      ]
    },
    {
      "cell_type": "code",
      "metadata": {
        "colab": {
          "base_uri": "https://localhost:8080/"
        },
        "id": "ZpOOAWtLop0w",
        "outputId": "60abe107-1b43-4cbd-e177-1d4f363b5cd3"
      },
      "source": [
        "model.fit(train_generator,verbose=2,epochs=80, validation_data=validation_generator) "
      ],
      "execution_count": 31,
      "outputs": [
        {
          "output_type": "stream",
          "text": [
            "Epoch 1/80\n",
            "85/85 - 0s - loss: 2.3031e-04 - accuracy: 0.0118 - val_loss: 0.0033 - val_accuracy: 0.0256\n",
            "Epoch 2/80\n",
            "85/85 - 0s - loss: 1.9720e-04 - accuracy: 0.0118 - val_loss: 0.0041 - val_accuracy: 0.0256\n",
            "Epoch 3/80\n",
            "85/85 - 0s - loss: 1.6235e-04 - accuracy: 0.0118 - val_loss: 0.0052 - val_accuracy: 0.0256\n",
            "Epoch 4/80\n",
            "85/85 - 0s - loss: 2.4151e-04 - accuracy: 0.0118 - val_loss: 0.0061 - val_accuracy: 0.0256\n",
            "Epoch 5/80\n",
            "85/85 - 0s - loss: 2.6251e-04 - accuracy: 0.0118 - val_loss: 0.0044 - val_accuracy: 0.0256\n",
            "Epoch 6/80\n",
            "85/85 - 0s - loss: 3.9206e-04 - accuracy: 0.0118 - val_loss: 0.0037 - val_accuracy: 0.0256\n",
            "Epoch 7/80\n",
            "85/85 - 0s - loss: 3.6675e-04 - accuracy: 0.0118 - val_loss: 0.0031 - val_accuracy: 0.0256\n",
            "Epoch 8/80\n",
            "85/85 - 0s - loss: 2.8590e-04 - accuracy: 0.0118 - val_loss: 0.0034 - val_accuracy: 0.0256\n",
            "Epoch 9/80\n",
            "85/85 - 0s - loss: 2.6399e-04 - accuracy: 0.0118 - val_loss: 0.0024 - val_accuracy: 0.0256\n",
            "Epoch 10/80\n",
            "85/85 - 0s - loss: 2.4976e-04 - accuracy: 0.0118 - val_loss: 0.0035 - val_accuracy: 0.0256\n",
            "Epoch 11/80\n",
            "85/85 - 0s - loss: 1.9890e-04 - accuracy: 0.0118 - val_loss: 0.0034 - val_accuracy: 0.0256\n",
            "Epoch 12/80\n",
            "85/85 - 0s - loss: 2.9059e-04 - accuracy: 0.0118 - val_loss: 0.0044 - val_accuracy: 0.0256\n",
            "Epoch 13/80\n",
            "85/85 - 0s - loss: 2.6635e-04 - accuracy: 0.0118 - val_loss: 0.0042 - val_accuracy: 0.0256\n",
            "Epoch 14/80\n",
            "85/85 - 0s - loss: 3.3274e-04 - accuracy: 0.0118 - val_loss: 0.0027 - val_accuracy: 0.0256\n",
            "Epoch 15/80\n",
            "85/85 - 0s - loss: 3.0578e-04 - accuracy: 0.0118 - val_loss: 0.0039 - val_accuracy: 0.0256\n",
            "Epoch 16/80\n",
            "85/85 - 0s - loss: 2.4495e-04 - accuracy: 0.0118 - val_loss: 0.0027 - val_accuracy: 0.0256\n",
            "Epoch 17/80\n",
            "85/85 - 0s - loss: 1.7441e-04 - accuracy: 0.0118 - val_loss: 0.0043 - val_accuracy: 0.0256\n",
            "Epoch 18/80\n",
            "85/85 - 0s - loss: 1.7119e-04 - accuracy: 0.0118 - val_loss: 0.0033 - val_accuracy: 0.0256\n",
            "Epoch 19/80\n",
            "85/85 - 0s - loss: 1.9444e-04 - accuracy: 0.0118 - val_loss: 0.0044 - val_accuracy: 0.0256\n",
            "Epoch 20/80\n",
            "85/85 - 0s - loss: 2.5791e-04 - accuracy: 0.0118 - val_loss: 0.0033 - val_accuracy: 0.0256\n",
            "Epoch 21/80\n",
            "85/85 - 0s - loss: 2.0259e-04 - accuracy: 0.0118 - val_loss: 0.0026 - val_accuracy: 0.0256\n",
            "Epoch 22/80\n",
            "85/85 - 0s - loss: 1.5356e-04 - accuracy: 0.0118 - val_loss: 0.0028 - val_accuracy: 0.0256\n",
            "Epoch 23/80\n",
            "85/85 - 0s - loss: 1.3656e-04 - accuracy: 0.0118 - val_loss: 0.0026 - val_accuracy: 0.0256\n",
            "Epoch 24/80\n",
            "85/85 - 0s - loss: 1.2715e-04 - accuracy: 0.0118 - val_loss: 0.0031 - val_accuracy: 0.0256\n",
            "Epoch 25/80\n",
            "85/85 - 0s - loss: 2.1061e-04 - accuracy: 0.0118 - val_loss: 0.0027 - val_accuracy: 0.0256\n",
            "Epoch 26/80\n",
            "85/85 - 0s - loss: 1.5712e-04 - accuracy: 0.0118 - val_loss: 0.0041 - val_accuracy: 0.0256\n",
            "Epoch 27/80\n",
            "85/85 - 0s - loss: 1.2781e-04 - accuracy: 0.0118 - val_loss: 0.0024 - val_accuracy: 0.0256\n",
            "Epoch 28/80\n",
            "85/85 - 0s - loss: 1.4419e-04 - accuracy: 0.0118 - val_loss: 0.0034 - val_accuracy: 0.0256\n",
            "Epoch 29/80\n",
            "85/85 - 0s - loss: 1.2100e-04 - accuracy: 0.0118 - val_loss: 0.0040 - val_accuracy: 0.0256\n",
            "Epoch 30/80\n",
            "85/85 - 0s - loss: 3.0543e-04 - accuracy: 0.0118 - val_loss: 0.0072 - val_accuracy: 0.0256\n",
            "Epoch 31/80\n",
            "85/85 - 0s - loss: 1.8543e-04 - accuracy: 0.0118 - val_loss: 0.0055 - val_accuracy: 0.0256\n",
            "Epoch 32/80\n",
            "85/85 - 0s - loss: 1.4616e-04 - accuracy: 0.0118 - val_loss: 0.0028 - val_accuracy: 0.0256\n",
            "Epoch 33/80\n",
            "85/85 - 0s - loss: 1.2239e-04 - accuracy: 0.0118 - val_loss: 0.0024 - val_accuracy: 0.0256\n",
            "Epoch 34/80\n",
            "85/85 - 0s - loss: 2.2241e-04 - accuracy: 0.0118 - val_loss: 0.0043 - val_accuracy: 0.0256\n",
            "Epoch 35/80\n",
            "85/85 - 0s - loss: 7.0144e-04 - accuracy: 0.0118 - val_loss: 0.0029 - val_accuracy: 0.0256\n",
            "Epoch 36/80\n",
            "85/85 - 0s - loss: 6.0899e-04 - accuracy: 0.0118 - val_loss: 0.0038 - val_accuracy: 0.0256\n",
            "Epoch 37/80\n",
            "85/85 - 0s - loss: 4.0037e-04 - accuracy: 0.0118 - val_loss: 0.0033 - val_accuracy: 0.0256\n",
            "Epoch 38/80\n",
            "85/85 - 0s - loss: 2.9545e-04 - accuracy: 0.0118 - val_loss: 0.0029 - val_accuracy: 0.0256\n",
            "Epoch 39/80\n",
            "85/85 - 0s - loss: 2.4595e-04 - accuracy: 0.0118 - val_loss: 0.0026 - val_accuracy: 0.0256\n",
            "Epoch 40/80\n",
            "85/85 - 0s - loss: 3.2194e-04 - accuracy: 0.0118 - val_loss: 0.0033 - val_accuracy: 0.0256\n",
            "Epoch 41/80\n",
            "85/85 - 0s - loss: 2.9769e-04 - accuracy: 0.0118 - val_loss: 0.0027 - val_accuracy: 0.0256\n",
            "Epoch 42/80\n",
            "85/85 - 0s - loss: 1.9197e-04 - accuracy: 0.0118 - val_loss: 0.0028 - val_accuracy: 0.0256\n",
            "Epoch 43/80\n",
            "85/85 - 0s - loss: 1.5918e-04 - accuracy: 0.0118 - val_loss: 0.0024 - val_accuracy: 0.0256\n",
            "Epoch 44/80\n",
            "85/85 - 0s - loss: 1.2217e-04 - accuracy: 0.0118 - val_loss: 0.0026 - val_accuracy: 0.0256\n",
            "Epoch 45/80\n",
            "85/85 - 0s - loss: 6.8198e-05 - accuracy: 0.0118 - val_loss: 0.0027 - val_accuracy: 0.0256\n",
            "Epoch 46/80\n",
            "85/85 - 0s - loss: 1.6081e-04 - accuracy: 0.0118 - val_loss: 0.0037 - val_accuracy: 0.0256\n",
            "Epoch 47/80\n",
            "85/85 - 0s - loss: 1.9234e-04 - accuracy: 0.0118 - val_loss: 0.0030 - val_accuracy: 0.0256\n",
            "Epoch 48/80\n",
            "85/85 - 0s - loss: 1.0835e-04 - accuracy: 0.0118 - val_loss: 0.0029 - val_accuracy: 0.0256\n",
            "Epoch 49/80\n",
            "85/85 - 0s - loss: 9.2380e-05 - accuracy: 0.0118 - val_loss: 0.0030 - val_accuracy: 0.0256\n",
            "Epoch 50/80\n",
            "85/85 - 0s - loss: 7.9082e-05 - accuracy: 0.0118 - val_loss: 0.0025 - val_accuracy: 0.0256\n",
            "Epoch 51/80\n",
            "85/85 - 0s - loss: 6.2485e-05 - accuracy: 0.0118 - val_loss: 0.0025 - val_accuracy: 0.0256\n",
            "Epoch 52/80\n",
            "85/85 - 0s - loss: 7.1682e-05 - accuracy: 0.0118 - val_loss: 0.0026 - val_accuracy: 0.0256\n",
            "Epoch 53/80\n",
            "85/85 - 0s - loss: 1.1022e-04 - accuracy: 0.0118 - val_loss: 0.0026 - val_accuracy: 0.0256\n",
            "Epoch 54/80\n",
            "85/85 - 0s - loss: 1.6339e-04 - accuracy: 0.0118 - val_loss: 0.0033 - val_accuracy: 0.0256\n",
            "Epoch 55/80\n",
            "85/85 - 0s - loss: 1.7160e-04 - accuracy: 0.0118 - val_loss: 0.0061 - val_accuracy: 0.0256\n",
            "Epoch 56/80\n",
            "85/85 - 0s - loss: 1.9594e-04 - accuracy: 0.0118 - val_loss: 0.0025 - val_accuracy: 0.0256\n",
            "Epoch 57/80\n",
            "85/85 - 0s - loss: 3.5312e-04 - accuracy: 0.0118 - val_loss: 0.0037 - val_accuracy: 0.0256\n",
            "Epoch 58/80\n",
            "85/85 - 0s - loss: 2.9109e-04 - accuracy: 0.0118 - val_loss: 0.0042 - val_accuracy: 0.0256\n",
            "Epoch 59/80\n",
            "85/85 - 0s - loss: 1.8519e-04 - accuracy: 0.0118 - val_loss: 0.0057 - val_accuracy: 0.0256\n",
            "Epoch 60/80\n",
            "85/85 - 0s - loss: 1.1421e-04 - accuracy: 0.0118 - val_loss: 0.0031 - val_accuracy: 0.0256\n",
            "Epoch 61/80\n",
            "85/85 - 0s - loss: 1.1025e-04 - accuracy: 0.0118 - val_loss: 0.0029 - val_accuracy: 0.0256\n",
            "Epoch 62/80\n",
            "85/85 - 0s - loss: 9.9121e-05 - accuracy: 0.0118 - val_loss: 0.0039 - val_accuracy: 0.0256\n",
            "Epoch 63/80\n",
            "85/85 - 0s - loss: 8.6591e-05 - accuracy: 0.0118 - val_loss: 0.0038 - val_accuracy: 0.0256\n",
            "Epoch 64/80\n",
            "85/85 - 0s - loss: 5.5695e-05 - accuracy: 0.0118 - val_loss: 0.0024 - val_accuracy: 0.0256\n",
            "Epoch 65/80\n",
            "85/85 - 0s - loss: 8.3396e-05 - accuracy: 0.0118 - val_loss: 0.0027 - val_accuracy: 0.0256\n",
            "Epoch 66/80\n",
            "85/85 - 0s - loss: 1.9842e-04 - accuracy: 0.0118 - val_loss: 0.0038 - val_accuracy: 0.0256\n",
            "Epoch 67/80\n",
            "85/85 - 0s - loss: 9.9436e-05 - accuracy: 0.0118 - val_loss: 0.0043 - val_accuracy: 0.0256\n",
            "Epoch 68/80\n",
            "85/85 - 0s - loss: 1.1432e-04 - accuracy: 0.0118 - val_loss: 0.0027 - val_accuracy: 0.0256\n",
            "Epoch 69/80\n",
            "85/85 - 0s - loss: 1.0023e-04 - accuracy: 0.0118 - val_loss: 0.0028 - val_accuracy: 0.0256\n",
            "Epoch 70/80\n",
            "85/85 - 0s - loss: 8.4391e-05 - accuracy: 0.0118 - val_loss: 0.0050 - val_accuracy: 0.0256\n",
            "Epoch 71/80\n",
            "85/85 - 0s - loss: 1.5198e-04 - accuracy: 0.0118 - val_loss: 0.0024 - val_accuracy: 0.0256\n",
            "Epoch 72/80\n",
            "85/85 - 0s - loss: 1.8145e-04 - accuracy: 0.0118 - val_loss: 0.0051 - val_accuracy: 0.0256\n",
            "Epoch 73/80\n",
            "85/85 - 0s - loss: 1.8864e-04 - accuracy: 0.0118 - val_loss: 0.0037 - val_accuracy: 0.0256\n",
            "Epoch 74/80\n",
            "85/85 - 0s - loss: 1.1923e-04 - accuracy: 0.0118 - val_loss: 0.0036 - val_accuracy: 0.0256\n",
            "Epoch 75/80\n",
            "85/85 - 0s - loss: 1.4004e-04 - accuracy: 0.0118 - val_loss: 0.0033 - val_accuracy: 0.0256\n",
            "Epoch 76/80\n",
            "85/85 - 0s - loss: 1.0755e-04 - accuracy: 0.0118 - val_loss: 0.0030 - val_accuracy: 0.0256\n",
            "Epoch 77/80\n",
            "85/85 - 0s - loss: 9.4764e-05 - accuracy: 0.0118 - val_loss: 0.0032 - val_accuracy: 0.0256\n",
            "Epoch 78/80\n",
            "85/85 - 0s - loss: 9.5809e-05 - accuracy: 0.0118 - val_loss: 0.0032 - val_accuracy: 0.0256\n",
            "Epoch 79/80\n",
            "85/85 - 0s - loss: 5.7575e-05 - accuracy: 0.0118 - val_loss: 0.0027 - val_accuracy: 0.0256\n",
            "Epoch 80/80\n",
            "85/85 - 0s - loss: 5.5198e-05 - accuracy: 0.0118 - val_loss: 0.0027 - val_accuracy: 0.0256\n"
          ],
          "name": "stdout"
        },
        {
          "output_type": "execute_result",
          "data": {
            "text/plain": [
              "<keras.callbacks.History at 0x7fa19822a150>"
            ]
          },
          "metadata": {
            "tags": []
          },
          "execution_count": 31
        }
      ]
    },
    {
      "cell_type": "code",
      "metadata": {
        "colab": {
          "base_uri": "https://localhost:8080/"
        },
        "id": "1VyFzgjRo5ht",
        "outputId": "c3b2debd-93ff-42bc-da92-6263b75340e3"
      },
      "source": [
        "import math\n",
        "\n",
        "pred_tr = model.predict(train_generator)\n",
        "pred_te = model.predict(validation_generator)\n",
        "# Inverse transformation to bring actual values\n",
        "\n",
        "pred_tr = scaler.inverse_transform(pred_tr)\n",
        "ytr_act = scaler.inverse_transform(train)\n",
        "pred_te = scaler.inverse_transform(pred_te)\n",
        "yte_act = scaler.inverse_transform(test)\n",
        "\n",
        "train_rmse = math.sqrt(mean_squared_error(ytr_act[win_size:], pred_tr[:,0]))\n",
        "test_rmse = math.sqrt(mean_squared_error(yte_act[win_size:], pred_te[:,0]))\n",
        "train_rmse,test_rmse"
      ],
      "execution_count": 36,
      "outputs": [
        {
          "output_type": "execute_result",
          "data": {
            "text/plain": [
              "(3.3483001552651364, 27.149009661236956)"
            ]
          },
          "metadata": {
            "tags": []
          },
          "execution_count": 36
        }
      ]
    },
    {
      "cell_type": "markdown",
      "metadata": {
        "id": "SZLWpY7wsYTp"
      },
      "source": [
        "### "
      ]
    },
    {
      "cell_type": "code",
      "metadata": {
        "colab": {
          "base_uri": "https://localhost:8080/"
        },
        "id": "x0A8q0AGr_1w",
        "outputId": "1cd9b3f1-d7fe-4d19-f77c-21a6d48065e4"
      },
      "source": [
        "model = Sequential()\n",
        "model.add(LSTM(50, input_shape=(win_size, num_features)))\n",
        "model.add(Dense(1))\n",
        "model.compile(loss='mean_squared_error', optimizer='adam', metrics = ['accuracy'])\n",
        "print(model.summary()) "
      ],
      "execution_count": 38,
      "outputs": [
        {
          "output_type": "stream",
          "text": [
            "Model: \"sequential_3\"\n",
            "_________________________________________________________________\n",
            "Layer (type)                 Output Shape              Param #   \n",
            "=================================================================\n",
            "lstm (LSTM)                  (None, 50)                10400     \n",
            "_________________________________________________________________\n",
            "dense_2 (Dense)              (None, 1)                 51        \n",
            "=================================================================\n",
            "Total params: 10,451\n",
            "Trainable params: 10,451\n",
            "Non-trainable params: 0\n",
            "_________________________________________________________________\n",
            "None\n"
          ],
          "name": "stdout"
        }
      ]
    },
    {
      "cell_type": "code",
      "metadata": {
        "colab": {
          "base_uri": "https://localhost:8080/"
        },
        "id": "k1-ivF49tAVQ",
        "outputId": "f62ca06b-5596-4595-f552-d77b0b32fba5"
      },
      "source": [
        "model.fit(train_generator,verbose=2,epochs=80, validation_data=validation_generator) "
      ],
      "execution_count": 39,
      "outputs": [
        {
          "output_type": "stream",
          "text": [
            "Epoch 1/80\n",
            "85/85 - 4s - loss: 0.0177 - accuracy: 0.0118 - val_loss: 0.0268 - val_accuracy: 0.0256\n",
            "Epoch 2/80\n",
            "85/85 - 0s - loss: 0.0085 - accuracy: 0.0118 - val_loss: 0.0279 - val_accuracy: 0.0256\n",
            "Epoch 3/80\n",
            "85/85 - 0s - loss: 0.0066 - accuracy: 0.0118 - val_loss: 0.0254 - val_accuracy: 0.0256\n",
            "Epoch 4/80\n",
            "85/85 - 0s - loss: 0.0062 - accuracy: 0.0118 - val_loss: 0.0250 - val_accuracy: 0.0256\n",
            "Epoch 5/80\n",
            "85/85 - 0s - loss: 0.0057 - accuracy: 0.0118 - val_loss: 0.0241 - val_accuracy: 0.0256\n",
            "Epoch 6/80\n",
            "85/85 - 0s - loss: 0.0056 - accuracy: 0.0118 - val_loss: 0.0236 - val_accuracy: 0.0256\n",
            "Epoch 7/80\n",
            "85/85 - 0s - loss: 0.0054 - accuracy: 0.0118 - val_loss: 0.0239 - val_accuracy: 0.0256\n",
            "Epoch 8/80\n",
            "85/85 - 0s - loss: 0.0055 - accuracy: 0.0118 - val_loss: 0.0216 - val_accuracy: 0.0256\n",
            "Epoch 9/80\n",
            "85/85 - 0s - loss: 0.0049 - accuracy: 0.0118 - val_loss: 0.0255 - val_accuracy: 0.0256\n",
            "Epoch 10/80\n",
            "85/85 - 0s - loss: 0.0058 - accuracy: 0.0118 - val_loss: 0.0200 - val_accuracy: 0.0256\n",
            "Epoch 11/80\n",
            "85/85 - 0s - loss: 0.0047 - accuracy: 0.0118 - val_loss: 0.0197 - val_accuracy: 0.0256\n",
            "Epoch 12/80\n",
            "85/85 - 0s - loss: 0.0050 - accuracy: 0.0118 - val_loss: 0.0215 - val_accuracy: 0.0256\n",
            "Epoch 13/80\n",
            "85/85 - 0s - loss: 0.0047 - accuracy: 0.0118 - val_loss: 0.0207 - val_accuracy: 0.0256\n",
            "Epoch 14/80\n",
            "85/85 - 1s - loss: 0.0044 - accuracy: 0.0118 - val_loss: 0.0172 - val_accuracy: 0.0256\n",
            "Epoch 15/80\n",
            "85/85 - 0s - loss: 0.0045 - accuracy: 0.0118 - val_loss: 0.0172 - val_accuracy: 0.0256\n",
            "Epoch 16/80\n",
            "85/85 - 0s - loss: 0.0041 - accuracy: 0.0118 - val_loss: 0.0151 - val_accuracy: 0.0256\n",
            "Epoch 17/80\n",
            "85/85 - 0s - loss: 0.0038 - accuracy: 0.0118 - val_loss: 0.0183 - val_accuracy: 0.0256\n",
            "Epoch 18/80\n",
            "85/85 - 0s - loss: 0.0036 - accuracy: 0.0118 - val_loss: 0.0129 - val_accuracy: 0.0256\n",
            "Epoch 19/80\n",
            "85/85 - 0s - loss: 0.0035 - accuracy: 0.0118 - val_loss: 0.0152 - val_accuracy: 0.0256\n",
            "Epoch 20/80\n",
            "85/85 - 0s - loss: 0.0032 - accuracy: 0.0118 - val_loss: 0.0126 - val_accuracy: 0.0256\n",
            "Epoch 21/80\n",
            "85/85 - 0s - loss: 0.0034 - accuracy: 0.0118 - val_loss: 0.0092 - val_accuracy: 0.0256\n",
            "Epoch 22/80\n",
            "85/85 - 0s - loss: 0.0029 - accuracy: 0.0118 - val_loss: 0.0093 - val_accuracy: 0.0256\n",
            "Epoch 23/80\n",
            "85/85 - 0s - loss: 0.0026 - accuracy: 0.0118 - val_loss: 0.0102 - val_accuracy: 0.0256\n",
            "Epoch 24/80\n",
            "85/85 - 0s - loss: 0.0024 - accuracy: 0.0118 - val_loss: 0.0075 - val_accuracy: 0.0256\n",
            "Epoch 25/80\n",
            "85/85 - 0s - loss: 0.0024 - accuracy: 0.0118 - val_loss: 0.0082 - val_accuracy: 0.0256\n",
            "Epoch 26/80\n",
            "85/85 - 0s - loss: 0.0022 - accuracy: 0.0118 - val_loss: 0.0093 - val_accuracy: 0.0256\n",
            "Epoch 27/80\n",
            "85/85 - 0s - loss: 0.0023 - accuracy: 0.0118 - val_loss: 0.0073 - val_accuracy: 0.0256\n",
            "Epoch 28/80\n",
            "85/85 - 0s - loss: 0.0022 - accuracy: 0.0118 - val_loss: 0.0074 - val_accuracy: 0.0256\n",
            "Epoch 29/80\n",
            "85/85 - 0s - loss: 0.0019 - accuracy: 0.0118 - val_loss: 0.0175 - val_accuracy: 0.0256\n",
            "Epoch 30/80\n",
            "85/85 - 0s - loss: 0.0024 - accuracy: 0.0118 - val_loss: 0.0112 - val_accuracy: 0.0256\n",
            "Epoch 31/80\n",
            "85/85 - 0s - loss: 0.0020 - accuracy: 0.0118 - val_loss: 0.0077 - val_accuracy: 0.0256\n",
            "Epoch 32/80\n",
            "85/85 - 0s - loss: 0.0020 - accuracy: 0.0118 - val_loss: 0.0069 - val_accuracy: 0.0256\n",
            "Epoch 33/80\n",
            "85/85 - 0s - loss: 0.0017 - accuracy: 0.0118 - val_loss: 0.0063 - val_accuracy: 0.0256\n",
            "Epoch 34/80\n",
            "85/85 - 0s - loss: 0.0020 - accuracy: 0.0118 - val_loss: 0.0060 - val_accuracy: 0.0256\n",
            "Epoch 35/80\n",
            "85/85 - 0s - loss: 0.0019 - accuracy: 0.0118 - val_loss: 0.0060 - val_accuracy: 0.0256\n",
            "Epoch 36/80\n",
            "85/85 - 0s - loss: 0.0019 - accuracy: 0.0118 - val_loss: 0.0064 - val_accuracy: 0.0256\n",
            "Epoch 37/80\n",
            "85/85 - 0s - loss: 0.0018 - accuracy: 0.0118 - val_loss: 0.0059 - val_accuracy: 0.0256\n",
            "Epoch 38/80\n",
            "85/85 - 0s - loss: 0.0018 - accuracy: 0.0118 - val_loss: 0.0072 - val_accuracy: 0.0256\n",
            "Epoch 39/80\n",
            "85/85 - 0s - loss: 0.0017 - accuracy: 0.0118 - val_loss: 0.0060 - val_accuracy: 0.0256\n",
            "Epoch 40/80\n",
            "85/85 - 0s - loss: 0.0019 - accuracy: 0.0118 - val_loss: 0.0069 - val_accuracy: 0.0256\n",
            "Epoch 41/80\n",
            "85/85 - 0s - loss: 0.0017 - accuracy: 0.0118 - val_loss: 0.0059 - val_accuracy: 0.0256\n",
            "Epoch 42/80\n",
            "85/85 - 0s - loss: 0.0017 - accuracy: 0.0118 - val_loss: 0.0057 - val_accuracy: 0.0256\n",
            "Epoch 43/80\n",
            "85/85 - 0s - loss: 0.0019 - accuracy: 0.0118 - val_loss: 0.0054 - val_accuracy: 0.0256\n",
            "Epoch 44/80\n",
            "85/85 - 0s - loss: 0.0016 - accuracy: 0.0118 - val_loss: 0.0056 - val_accuracy: 0.0256\n",
            "Epoch 45/80\n",
            "85/85 - 0s - loss: 0.0016 - accuracy: 0.0118 - val_loss: 0.0058 - val_accuracy: 0.0256\n",
            "Epoch 46/80\n",
            "85/85 - 0s - loss: 0.0017 - accuracy: 0.0118 - val_loss: 0.0083 - val_accuracy: 0.0256\n",
            "Epoch 47/80\n",
            "85/85 - 0s - loss: 0.0017 - accuracy: 0.0118 - val_loss: 0.0052 - val_accuracy: 0.0256\n",
            "Epoch 48/80\n",
            "85/85 - 0s - loss: 0.0018 - accuracy: 0.0118 - val_loss: 0.0057 - val_accuracy: 0.0256\n",
            "Epoch 49/80\n",
            "85/85 - 0s - loss: 0.0015 - accuracy: 0.0118 - val_loss: 0.0090 - val_accuracy: 0.0256\n",
            "Epoch 50/80\n",
            "85/85 - 0s - loss: 0.0018 - accuracy: 0.0118 - val_loss: 0.0052 - val_accuracy: 0.0256\n",
            "Epoch 51/80\n",
            "85/85 - 0s - loss: 0.0018 - accuracy: 0.0118 - val_loss: 0.0067 - val_accuracy: 0.0256\n",
            "Epoch 52/80\n",
            "85/85 - 0s - loss: 0.0016 - accuracy: 0.0118 - val_loss: 0.0056 - val_accuracy: 0.0256\n",
            "Epoch 53/80\n",
            "85/85 - 0s - loss: 0.0014 - accuracy: 0.0118 - val_loss: 0.0050 - val_accuracy: 0.0256\n",
            "Epoch 54/80\n",
            "85/85 - 0s - loss: 0.0015 - accuracy: 0.0118 - val_loss: 0.0054 - val_accuracy: 0.0256\n",
            "Epoch 55/80\n",
            "85/85 - 0s - loss: 0.0014 - accuracy: 0.0118 - val_loss: 0.0054 - val_accuracy: 0.0256\n",
            "Epoch 56/80\n",
            "85/85 - 0s - loss: 0.0016 - accuracy: 0.0118 - val_loss: 0.0077 - val_accuracy: 0.0256\n",
            "Epoch 57/80\n",
            "85/85 - 0s - loss: 0.0015 - accuracy: 0.0118 - val_loss: 0.0076 - val_accuracy: 0.0256\n",
            "Epoch 58/80\n",
            "85/85 - 0s - loss: 0.0012 - accuracy: 0.0118 - val_loss: 0.0059 - val_accuracy: 0.0256\n",
            "Epoch 59/80\n",
            "85/85 - 0s - loss: 0.0015 - accuracy: 0.0118 - val_loss: 0.0097 - val_accuracy: 0.0256\n",
            "Epoch 60/80\n",
            "85/85 - 0s - loss: 0.0015 - accuracy: 0.0118 - val_loss: 0.0052 - val_accuracy: 0.0256\n",
            "Epoch 61/80\n",
            "85/85 - 0s - loss: 0.0013 - accuracy: 0.0118 - val_loss: 0.0057 - val_accuracy: 0.0256\n",
            "Epoch 62/80\n",
            "85/85 - 0s - loss: 0.0013 - accuracy: 0.0118 - val_loss: 0.0059 - val_accuracy: 0.0256\n",
            "Epoch 63/80\n",
            "85/85 - 0s - loss: 0.0016 - accuracy: 0.0118 - val_loss: 0.0070 - val_accuracy: 0.0256\n",
            "Epoch 64/80\n",
            "85/85 - 0s - loss: 0.0015 - accuracy: 0.0118 - val_loss: 0.0058 - val_accuracy: 0.0256\n",
            "Epoch 65/80\n",
            "85/85 - 0s - loss: 0.0014 - accuracy: 0.0118 - val_loss: 0.0060 - val_accuracy: 0.0256\n",
            "Epoch 66/80\n",
            "85/85 - 0s - loss: 0.0013 - accuracy: 0.0118 - val_loss: 0.0103 - val_accuracy: 0.0256\n",
            "Epoch 67/80\n",
            "85/85 - 0s - loss: 0.0014 - accuracy: 0.0118 - val_loss: 0.0067 - val_accuracy: 0.0256\n",
            "Epoch 68/80\n",
            "85/85 - 0s - loss: 0.0013 - accuracy: 0.0118 - val_loss: 0.0074 - val_accuracy: 0.0256\n",
            "Epoch 69/80\n",
            "85/85 - 0s - loss: 0.0013 - accuracy: 0.0118 - val_loss: 0.0069 - val_accuracy: 0.0256\n",
            "Epoch 70/80\n",
            "85/85 - 0s - loss: 0.0014 - accuracy: 0.0118 - val_loss: 0.0091 - val_accuracy: 0.0256\n",
            "Epoch 71/80\n",
            "85/85 - 0s - loss: 0.0012 - accuracy: 0.0118 - val_loss: 0.0134 - val_accuracy: 0.0256\n",
            "Epoch 72/80\n",
            "85/85 - 0s - loss: 0.0012 - accuracy: 0.0118 - val_loss: 0.0213 - val_accuracy: 0.0256\n",
            "Epoch 73/80\n",
            "85/85 - 0s - loss: 0.0012 - accuracy: 0.0118 - val_loss: 0.0096 - val_accuracy: 0.0256\n",
            "Epoch 74/80\n",
            "85/85 - 0s - loss: 0.0012 - accuracy: 0.0118 - val_loss: 0.0104 - val_accuracy: 0.0256\n",
            "Epoch 75/80\n",
            "85/85 - 0s - loss: 0.0013 - accuracy: 0.0118 - val_loss: 0.0094 - val_accuracy: 0.0256\n",
            "Epoch 76/80\n",
            "85/85 - 0s - loss: 0.0012 - accuracy: 0.0118 - val_loss: 0.0097 - val_accuracy: 0.0256\n",
            "Epoch 77/80\n",
            "85/85 - 0s - loss: 0.0013 - accuracy: 0.0118 - val_loss: 0.0115 - val_accuracy: 0.0256\n",
            "Epoch 78/80\n",
            "85/85 - 0s - loss: 0.0011 - accuracy: 0.0118 - val_loss: 0.0118 - val_accuracy: 0.0256\n",
            "Epoch 79/80\n",
            "85/85 - 0s - loss: 0.0011 - accuracy: 0.0118 - val_loss: 0.0100 - val_accuracy: 0.0256\n",
            "Epoch 80/80\n",
            "85/85 - 1s - loss: 0.0012 - accuracy: 0.0118 - val_loss: 0.0120 - val_accuracy: 0.0256\n"
          ],
          "name": "stdout"
        },
        {
          "output_type": "execute_result",
          "data": {
            "text/plain": [
              "<keras.callbacks.History at 0x7fa197832990>"
            ]
          },
          "metadata": {
            "tags": []
          },
          "execution_count": 39
        }
      ]
    },
    {
      "cell_type": "code",
      "metadata": {
        "colab": {
          "base_uri": "https://localhost:8080/"
        },
        "id": "v9YwuEeDtIJb",
        "outputId": "5cf5434b-8444-470f-c3fb-d0cd84349e87"
      },
      "source": [
        "pred_tr = model.predict(train_generator)\n",
        "pred_te = model.predict(validation_generator)\n",
        "# Inverse transformation to bring actual values\n",
        "\n",
        "pred_tr = scaler.inverse_transform(pred_tr)\n",
        "ytr_act = scaler.inverse_transform(train)\n",
        "pred_te = scaler.inverse_transform(pred_te)\n",
        "yte_act = scaler.inverse_transform(test)\n",
        "\n",
        "train_rmse = math.sqrt(mean_squared_error(ytr_act[win_size:], pred_tr[:,0]))\n",
        "test_rmse = math.sqrt(mean_squared_error(yte_act[win_size:], pred_te[:,0]))\n",
        "train_rmse,test_rmse"
      ],
      "execution_count": 40,
      "outputs": [
        {
          "output_type": "execute_result",
          "data": {
            "text/plain": [
              "(15.652905744683737, 56.66753455600702)"
            ]
          },
          "metadata": {
            "tags": []
          },
          "execution_count": 40
        }
      ]
    },
    {
      "cell_type": "code",
      "metadata": {
        "colab": {
          "base_uri": "https://localhost:8080/"
        },
        "id": "k7nv2ZgKtU4v",
        "outputId": "015b8d5c-cf61-4ea7-eecb-b9e5e77ec10f"
      },
      "source": [
        "model = Sequential()\n",
        "model.add(LSTM(50, activation='relu', return_sequences=True, input_shape=(win_size, num_features)))\n",
        "model.add(LSTM(50, activation='relu'))\n",
        "model.add(Dense(1))\n",
        "model.compile(optimizer='adam', loss='mean_squared_error')\n",
        "model.summary()"
      ],
      "execution_count": 41,
      "outputs": [
        {
          "output_type": "stream",
          "text": [
            "Model: \"sequential_4\"\n",
            "_________________________________________________________________\n",
            "Layer (type)                 Output Shape              Param #   \n",
            "=================================================================\n",
            "lstm_1 (LSTM)                (None, 10, 50)            10400     \n",
            "_________________________________________________________________\n",
            "lstm_2 (LSTM)                (None, 50)                20200     \n",
            "_________________________________________________________________\n",
            "dense_3 (Dense)              (None, 1)                 51        \n",
            "=================================================================\n",
            "Total params: 30,651\n",
            "Trainable params: 30,651\n",
            "Non-trainable params: 0\n",
            "_________________________________________________________________\n"
          ],
          "name": "stdout"
        }
      ]
    },
    {
      "cell_type": "code",
      "metadata": {
        "colab": {
          "base_uri": "https://localhost:8080/"
        },
        "id": "qkY-woljtgTI",
        "outputId": "bd49d7a2-4c35-4130-9ee0-0ee3825f99c1"
      },
      "source": [
        "model.fit(train_generator,verbose=2,epochs=80, validation_data=validation_generator) "
      ],
      "execution_count": 42,
      "outputs": [
        {
          "output_type": "stream",
          "text": [
            "Epoch 1/80\n",
            "85/85 - 6s - loss: 0.0176 - val_loss: 0.0473\n",
            "Epoch 2/80\n",
            "85/85 - 1s - loss: 0.0073 - val_loss: 0.0274\n",
            "Epoch 3/80\n",
            "85/85 - 1s - loss: 0.0080 - val_loss: 0.0350\n",
            "Epoch 4/80\n",
            "85/85 - 1s - loss: 0.0070 - val_loss: 0.0293\n",
            "Epoch 5/80\n",
            "85/85 - 1s - loss: 0.0060 - val_loss: 0.0260\n",
            "Epoch 6/80\n",
            "85/85 - 1s - loss: 0.0060 - val_loss: 0.0272\n",
            "Epoch 7/80\n",
            "85/85 - 1s - loss: 0.0056 - val_loss: 0.0274\n",
            "Epoch 8/80\n",
            "85/85 - 1s - loss: 0.0064 - val_loss: 0.0270\n",
            "Epoch 9/80\n",
            "85/85 - 1s - loss: 0.0060 - val_loss: 0.0415\n",
            "Epoch 10/80\n",
            "85/85 - 1s - loss: 0.0060 - val_loss: 0.0257\n",
            "Epoch 11/80\n",
            "85/85 - 1s - loss: 0.0067 - val_loss: 0.0253\n",
            "Epoch 12/80\n",
            "85/85 - 1s - loss: 0.0059 - val_loss: 0.0287\n",
            "Epoch 13/80\n",
            "85/85 - 1s - loss: 0.0062 - val_loss: 0.0249\n",
            "Epoch 14/80\n",
            "85/85 - 1s - loss: 0.0063 - val_loss: 0.0326\n",
            "Epoch 15/80\n",
            "85/85 - 1s - loss: 0.0056 - val_loss: 0.0273\n",
            "Epoch 16/80\n",
            "85/85 - 1s - loss: 0.0057 - val_loss: 0.0239\n",
            "Epoch 17/80\n",
            "85/85 - 1s - loss: 0.0057 - val_loss: 0.0515\n",
            "Epoch 18/80\n",
            "85/85 - 1s - loss: 0.0066 - val_loss: 0.0271\n",
            "Epoch 19/80\n",
            "85/85 - 1s - loss: 0.0057 - val_loss: 0.0239\n",
            "Epoch 20/80\n",
            "85/85 - 1s - loss: 0.0061 - val_loss: 0.0255\n",
            "Epoch 21/80\n",
            "85/85 - 1s - loss: 0.0056 - val_loss: 0.0244\n",
            "Epoch 22/80\n",
            "85/85 - 1s - loss: 0.0059 - val_loss: 0.0243\n",
            "Epoch 23/80\n",
            "85/85 - 1s - loss: 0.0055 - val_loss: 0.0226\n",
            "Epoch 24/80\n",
            "85/85 - 1s - loss: 0.0060 - val_loss: 0.0231\n",
            "Epoch 25/80\n",
            "85/85 - 1s - loss: 0.0052 - val_loss: 0.0237\n",
            "Epoch 26/80\n",
            "85/85 - 1s - loss: 0.0051 - val_loss: 0.0215\n",
            "Epoch 27/80\n",
            "85/85 - 1s - loss: 0.0055 - val_loss: 0.0262\n",
            "Epoch 28/80\n",
            "85/85 - 1s - loss: 0.0056 - val_loss: 0.0206\n",
            "Epoch 29/80\n",
            "85/85 - 1s - loss: 0.0053 - val_loss: 0.0239\n",
            "Epoch 30/80\n",
            "85/85 - 1s - loss: 0.0061 - val_loss: 0.0245\n",
            "Epoch 31/80\n",
            "85/85 - 1s - loss: 0.0052 - val_loss: 0.0245\n",
            "Epoch 32/80\n",
            "85/85 - 1s - loss: 0.0055 - val_loss: 0.0218\n",
            "Epoch 33/80\n",
            "85/85 - 1s - loss: 0.0043 - val_loss: 0.0225\n",
            "Epoch 34/80\n",
            "85/85 - 1s - loss: 0.0047 - val_loss: 0.0175\n",
            "Epoch 35/80\n",
            "85/85 - 1s - loss: 0.0049 - val_loss: 0.0228\n",
            "Epoch 36/80\n",
            "85/85 - 1s - loss: 0.0057 - val_loss: 0.0415\n",
            "Epoch 37/80\n",
            "85/85 - 1s - loss: 0.0051 - val_loss: 0.0240\n",
            "Epoch 38/80\n",
            "85/85 - 1s - loss: 0.0046 - val_loss: 0.0304\n",
            "Epoch 39/80\n",
            "85/85 - 1s - loss: 0.0045 - val_loss: 0.0164\n",
            "Epoch 40/80\n",
            "85/85 - 1s - loss: 0.0046 - val_loss: 0.0247\n",
            "Epoch 41/80\n",
            "85/85 - 1s - loss: 0.0045 - val_loss: 0.0134\n",
            "Epoch 42/80\n",
            "85/85 - 1s - loss: 0.0039 - val_loss: 0.0217\n",
            "Epoch 43/80\n",
            "85/85 - 1s - loss: 0.0037 - val_loss: 0.0245\n",
            "Epoch 44/80\n",
            "85/85 - 1s - loss: 0.0040 - val_loss: 0.0251\n",
            "Epoch 45/80\n",
            "85/85 - 1s - loss: 0.0035 - val_loss: 0.0110\n",
            "Epoch 46/80\n",
            "85/85 - 1s - loss: 0.0031 - val_loss: 0.0121\n",
            "Epoch 47/80\n",
            "85/85 - 1s - loss: 0.0037 - val_loss: 0.0076\n",
            "Epoch 48/80\n",
            "85/85 - 1s - loss: 0.0027 - val_loss: 0.0065\n",
            "Epoch 49/80\n",
            "85/85 - 1s - loss: 0.0026 - val_loss: 0.0073\n",
            "Epoch 50/80\n",
            "85/85 - 1s - loss: 0.0025 - val_loss: 0.0061\n",
            "Epoch 51/80\n",
            "85/85 - 1s - loss: 0.0020 - val_loss: 0.0179\n",
            "Epoch 52/80\n",
            "85/85 - 1s - loss: 0.0022 - val_loss: 0.0102\n",
            "Epoch 53/80\n",
            "85/85 - 1s - loss: 0.0022 - val_loss: 0.0066\n",
            "Epoch 54/80\n",
            "85/85 - 1s - loss: 0.0020 - val_loss: 0.0098\n",
            "Epoch 55/80\n",
            "85/85 - 1s - loss: 0.0019 - val_loss: 0.0146\n",
            "Epoch 56/80\n",
            "85/85 - 1s - loss: 0.0025 - val_loss: 0.0061\n",
            "Epoch 57/80\n",
            "85/85 - 1s - loss: 0.0020 - val_loss: 0.0078\n",
            "Epoch 58/80\n",
            "85/85 - 1s - loss: 0.0020 - val_loss: 0.0057\n",
            "Epoch 59/80\n",
            "85/85 - 1s - loss: 0.0018 - val_loss: 0.0062\n",
            "Epoch 60/80\n",
            "85/85 - 1s - loss: 0.0015 - val_loss: 0.0084\n",
            "Epoch 61/80\n",
            "85/85 - 1s - loss: 0.0020 - val_loss: 0.0055\n",
            "Epoch 62/80\n",
            "85/85 - 1s - loss: 0.0020 - val_loss: 0.0124\n",
            "Epoch 63/80\n",
            "85/85 - 1s - loss: 0.0018 - val_loss: 0.0051\n",
            "Epoch 64/80\n",
            "85/85 - 1s - loss: 0.0016 - val_loss: 0.0056\n",
            "Epoch 65/80\n",
            "85/85 - 1s - loss: 0.0016 - val_loss: 0.0058\n",
            "Epoch 66/80\n",
            "85/85 - 1s - loss: 0.0017 - val_loss: 0.0088\n",
            "Epoch 67/80\n",
            "85/85 - 1s - loss: 0.0015 - val_loss: 0.0057\n",
            "Epoch 68/80\n",
            "85/85 - 1s - loss: 0.0017 - val_loss: 0.0045\n",
            "Epoch 69/80\n",
            "85/85 - 1s - loss: 0.0015 - val_loss: 0.0049\n",
            "Epoch 70/80\n",
            "85/85 - 1s - loss: 0.0016 - val_loss: 0.0048\n",
            "Epoch 71/80\n",
            "85/85 - 1s - loss: 0.0013 - val_loss: 0.0063\n",
            "Epoch 72/80\n",
            "85/85 - 1s - loss: 0.0014 - val_loss: 0.0061\n",
            "Epoch 73/80\n",
            "85/85 - 1s - loss: 0.0016 - val_loss: 0.0045\n",
            "Epoch 74/80\n",
            "85/85 - 1s - loss: 0.0014 - val_loss: 0.0049\n",
            "Epoch 75/80\n",
            "85/85 - 1s - loss: 0.0014 - val_loss: 0.0103\n",
            "Epoch 76/80\n",
            "85/85 - 1s - loss: 0.0020 - val_loss: 0.0059\n",
            "Epoch 77/80\n",
            "85/85 - 1s - loss: 0.0013 - val_loss: 0.0078\n",
            "Epoch 78/80\n",
            "85/85 - 1s - loss: 0.0014 - val_loss: 0.0082\n",
            "Epoch 79/80\n",
            "85/85 - 1s - loss: 0.0013 - val_loss: 0.0042\n",
            "Epoch 80/80\n",
            "85/85 - 1s - loss: 0.0014 - val_loss: 0.0042\n"
          ],
          "name": "stdout"
        },
        {
          "output_type": "execute_result",
          "data": {
            "text/plain": [
              "<keras.callbacks.History at 0x7fa1978bf490>"
            ]
          },
          "metadata": {
            "tags": []
          },
          "execution_count": 42
        }
      ]
    },
    {
      "cell_type": "code",
      "metadata": {
        "colab": {
          "base_uri": "https://localhost:8080/"
        },
        "id": "OG1Yq3fwtkQT",
        "outputId": "f921e13e-b203-48d8-ff00-46953a9e03ae"
      },
      "source": [
        "pred_tr = model.predict(train_generator)\n",
        "pred_te = model.predict(validation_generator)\n",
        "# Inverse transformation to bring actual values\n",
        "\n",
        "pred_tr = scaler.inverse_transform(pred_tr)\n",
        "ytr_act = scaler.inverse_transform(train)\n",
        "pred_te = scaler.inverse_transform(pred_te)\n",
        "yte_act = scaler.inverse_transform(test)\n",
        "\n",
        "train_rmse = math.sqrt(mean_squared_error(ytr_act[win_size:], pred_tr[:,0]))\n",
        "test_rmse = math.sqrt(mean_squared_error(yte_act[win_size:], pred_te[:,0]))\n",
        "train_rmse,test_rmse"
      ],
      "execution_count": 43,
      "outputs": [
        {
          "output_type": "execute_result",
          "data": {
            "text/plain": [
              "(18.636060055038456, 33.520956743739056)"
            ]
          },
          "metadata": {
            "tags": []
          },
          "execution_count": 43
        }
      ]
    },
    {
      "cell_type": "code",
      "metadata": {
        "id": "rT9lZB7hu0dZ"
      },
      "source": [
        ""
      ],
      "execution_count": null,
      "outputs": []
    }
  ]
}