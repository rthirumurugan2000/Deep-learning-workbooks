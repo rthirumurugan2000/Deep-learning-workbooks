{
  "nbformat": 4,
  "nbformat_minor": 0,
  "metadata": {
    "colab": {
      "name": "TSF using neural networks.ipynb",
      "provenance": [],
      "collapsed_sections": []
    },
    "kernelspec": {
      "display_name": "Python 3",
      "name": "python3"
    },
    "language_info": {
      "name": "python"
    }
  },
  "cells": [
    {
      "cell_type": "markdown",
      "metadata": {
        "id": "f6KRnGMK-OdB"
      },
      "source": [
        "# TSF using Neural Networks\n"
      ]
    },
    {
      "cell_type": "code",
      "metadata": {
        "colab": {
          "base_uri": "https://localhost:8080/"
        },
        "id": "KNP3DDJD-ZjQ",
        "outputId": "58ea545b-bcca-497d-afa1-bf0b13764cd1"
      },
      "source": [
        "from google.colab import drive\n",
        "drive.mount(\"/content/gdrive\")"
      ],
      "execution_count": null,
      "outputs": [
        {
          "output_type": "stream",
          "text": [
            "Mounted at /content/gdrive\n"
          ],
          "name": "stdout"
        }
      ]
    },
    {
      "cell_type": "code",
      "metadata": {
        "colab": {
          "base_uri": "https://localhost:8080/"
        },
        "id": "fJqLMwKv-c6-",
        "outputId": "7d3cde30-8dc5-416c-c8e4-292ffe67982b"
      },
      "source": [
        "# Imports\n",
        "\n",
        "import numpy as np\n",
        "import pandas as pd\n",
        "import pandas.util.testing as tm\n",
        "import seaborn as sns\n",
        "import matplotlib.pyplot as plt\n",
        "plt.style.use('dark_background')"
      ],
      "execution_count": null,
      "outputs": [
        {
          "output_type": "stream",
          "text": [
            "/usr/local/lib/python3.7/dist-packages/ipykernel_launcher.py:5: FutureWarning: pandas.util.testing is deprecated. Use the functions in the public API at pandas.testing instead.\n",
            "  \"\"\"\n"
          ],
          "name": "stderr"
        }
      ]
    },
    {
      "cell_type": "code",
      "metadata": {
        "id": "whEGCKbdBnPW"
      },
      "source": [
        "import math\n",
        "from keras.models import Sequential\n",
        "from keras.layers import Dense\n",
        "from keras.layers.convolutional_recurrent import ConvLSTM2D\n",
        "from sklearn.preprocessing import MinMaxScaler\n",
        "from sklearn.metrics import mean_squared_error"
      ],
      "execution_count": null,
      "outputs": []
    },
    {
      "cell_type": "code",
      "metadata": {
        "id": "pQxSEWNQ-nmM"
      },
      "source": [
        "data = pd.read_csv('/content/gdrive/MyDrive/AirPassengers.csv')\n",
        "data = data.rename(columns={'#Passengers': 'Passengers'})\n",
        "data = data[\"Passengers\"]"
      ],
      "execution_count": null,
      "outputs": []
    },
    {
      "cell_type": "code",
      "metadata": {
        "colab": {
          "base_uri": "https://localhost:8080/"
        },
        "id": "K_QUyOR7Bxlh",
        "outputId": "8d638c30-d03d-4a41-d76d-f261d61414cc"
      },
      "source": [
        "data.head()"
      ],
      "execution_count": null,
      "outputs": [
        {
          "output_type": "execute_result",
          "data": {
            "text/plain": [
              "0    112\n",
              "1    118\n",
              "2    132\n",
              "3    129\n",
              "4    121\n",
              "Name: Passengers, dtype: int64"
            ]
          },
          "metadata": {
            "tags": []
          },
          "execution_count": 9
        }
      ]
    },
    {
      "cell_type": "code",
      "metadata": {
        "colab": {
          "base_uri": "https://localhost:8080/"
        },
        "id": "UbIij7ZKB-DP",
        "outputId": "868d163e-598a-43e4-e2ac-caafe022b576"
      },
      "source": [
        "df = data.values\n",
        "df = df.astype('float32') \n",
        "df"
      ],
      "execution_count": null,
      "outputs": [
        {
          "output_type": "execute_result",
          "data": {
            "text/plain": [
              "array([112., 118., 132., 129., 121., 135., 148., 148., 136., 119., 104.,\n",
              "       118., 115., 126., 141., 135., 125., 149., 170., 170., 158., 133.,\n",
              "       114., 140., 145., 150., 178., 163., 172., 178., 199., 199., 184.,\n",
              "       162., 146., 166., 171., 180., 193., 181., 183., 218., 230., 242.,\n",
              "       209., 191., 172., 194., 196., 196., 236., 235., 229., 243., 264.,\n",
              "       272., 237., 211., 180., 201., 204., 188., 235., 227., 234., 264.,\n",
              "       302., 293., 259., 229., 203., 229., 242., 233., 267., 269., 270.,\n",
              "       315., 364., 347., 312., 274., 237., 278., 284., 277., 317., 313.,\n",
              "       318., 374., 413., 405., 355., 306., 271., 306., 315., 301., 356.,\n",
              "       348., 355., 422., 465., 467., 404., 347., 305., 336., 340., 318.,\n",
              "       362., 348., 363., 435., 491., 505., 404., 359., 310., 337., 360.,\n",
              "       342., 406., 396., 420., 472., 548., 559., 463., 407., 362., 405.,\n",
              "       417., 391., 419., 461., 472., 535., 622., 606., 508., 461., 390.,\n",
              "       432.], dtype=float32)"
            ]
          },
          "metadata": {
            "tags": []
          },
          "execution_count": 16
        }
      ]
    },
    {
      "cell_type": "code",
      "metadata": {
        "id": "hiEErXAgChI-"
      },
      "source": [
        "scaler = MinMaxScaler()\n",
        "df = df.reshape(-1, 1)  # reshaping for scaling\n",
        "scaler = MinMaxScaler() # optional for single feature\n",
        "df = scaler.fit_transform(df)\n",
        "#df"
      ],
      "execution_count": null,
      "outputs": []
    },
    {
      "cell_type": "code",
      "metadata": {
        "colab": {
          "base_uri": "https://localhost:8080/"
        },
        "id": "95AGrhB-C7RV",
        "outputId": "44b1325a-3734-42d9-9e8a-4abed48b27d6"
      },
      "source": [
        "train_size = int(len(df) * 0.66)  #seq is imp\n",
        "test_size = len(df) - train_size\n",
        "train, test = df[0:train_size,:], df[train_size:len(df),:]\n",
        "train_size,test_size"
      ],
      "execution_count": null,
      "outputs": [
        {
          "output_type": "execute_result",
          "data": {
            "text/plain": [
              "(95, 49)"
            ]
          },
          "metadata": {
            "tags": []
          },
          "execution_count": 26
        }
      ]
    },
    {
      "cell_type": "code",
      "metadata": {
        "id": "d5ET76DpFGit"
      },
      "source": [
        "# Data transformation, 1,2,3,4,5->6 ,2,3,4,5,6,->7...\n",
        "# Making a window, predicting a val witht the help of prev values in the window\n",
        "def data_transf(data, win_size):\n",
        "    x = []\n",
        "    y = []\n",
        "\n",
        "    for i in range(len(data)-win_size-1):\n",
        "        window = df[i:(i+win_size), 0]\n",
        "        x.append(window)\n",
        "        y.append(df[i+ win_size, 0])\n",
        "        \n",
        "    return np.array(x),np.array(y)"
      ],
      "execution_count": null,
      "outputs": []
    },
    {
      "cell_type": "code",
      "metadata": {
        "colab": {
          "base_uri": "https://localhost:8080/"
        },
        "id": "euobKC1SGFqb",
        "outputId": "3b0642cc-2495-47e9-92ef-6400fb0f99d7"
      },
      "source": [
        "win_size = 7\n",
        "X_train, y_train = data_transf(train, win_size)\n",
        "X_test, y_test = data_transf(test, win_size)\n",
        "X_train.shape,X_test.shape"
      ],
      "execution_count": null,
      "outputs": [
        {
          "output_type": "execute_result",
          "data": {
            "text/plain": [
              "((87, 7), (41, 7))"
            ]
          },
          "metadata": {
            "tags": []
          },
          "execution_count": 42
        }
      ]
    },
    {
      "cell_type": "code",
      "metadata": {
        "colab": {
          "base_uri": "https://localhost:8080/"
        },
        "id": "v_qthLe1IN9T",
        "outputId": "f8982860-78c0-4662-f9f9-51d3297fa8ae"
      },
      "source": [
        "X_train[1],train[0:10]"
      ],
      "execution_count": null,
      "outputs": [
        {
          "output_type": "execute_result",
          "data": {
            "text/plain": [
              "(array([0.02702703, 0.05405405, 0.04826255, 0.03281853, 0.05984557,\n",
              "        0.08494207, 0.08494207], dtype=float32), array([[0.01544401],\n",
              "        [0.02702703],\n",
              "        [0.05405405],\n",
              "        [0.04826255],\n",
              "        [0.03281853],\n",
              "        [0.05984557],\n",
              "        [0.08494207],\n",
              "        [0.08494207],\n",
              "        [0.06177607],\n",
              "        [0.02895753]], dtype=float32))"
            ]
          },
          "metadata": {
            "tags": []
          },
          "execution_count": 43
        }
      ]
    },
    {
      "cell_type": "code",
      "metadata": {
        "colab": {
          "base_uri": "https://localhost:8080/"
        },
        "id": "XbFqocAZIwy7",
        "outputId": "cd00e996-d229-47b6-a524-d9de26239a05"
      },
      "source": [
        "# Model\n",
        "model = Sequential()\n",
        "model.add(Dense(64, input_dim= win_size, activation='relu')) #12\n",
        "model.add(Dense(32, activation='relu'))  #8\n",
        "model.add(Dense(1))\n",
        "model.compile(loss='mean_squared_error', optimizer='adam', metrics = ['acc'])\n",
        "print(model.summary()) "
      ],
      "execution_count": null,
      "outputs": [
        {
          "output_type": "stream",
          "text": [
            "Model: \"sequential\"\n",
            "_________________________________________________________________\n",
            "Layer (type)                 Output Shape              Param #   \n",
            "=================================================================\n",
            "dense (Dense)                (None, 64)                512       \n",
            "_________________________________________________________________\n",
            "dense_1 (Dense)              (None, 32)                2080      \n",
            "_________________________________________________________________\n",
            "dense_2 (Dense)              (None, 1)                 33        \n",
            "=================================================================\n",
            "Total params: 2,625\n",
            "Trainable params: 2,625\n",
            "Non-trainable params: 0\n",
            "_________________________________________________________________\n",
            "None\n"
          ],
          "name": "stdout"
        }
      ]
    },
    {
      "cell_type": "code",
      "metadata": {
        "colab": {
          "base_uri": "https://localhost:8080/"
        },
        "id": "_6SeDDhhJ24k",
        "outputId": "4a8193ac-c8ce-40a5-b791-536d0732e530"
      },
      "source": [
        "model.fit(X_train, y_train, validation_data=(X_test, y_test),verbose=2, epochs=100)"
      ],
      "execution_count": null,
      "outputs": [
        {
          "output_type": "stream",
          "text": [
            "Epoch 1/100\n",
            "3/3 - 12s - loss: 0.0920 - acc: 0.0115 - val_loss: 0.0141 - val_acc: 0.0244\n",
            "Epoch 2/100\n",
            "3/3 - 0s - loss: 0.0530 - acc: 0.0115 - val_loss: 0.0067 - val_acc: 0.0244\n",
            "Epoch 3/100\n",
            "3/3 - 0s - loss: 0.0297 - acc: 0.0115 - val_loss: 0.0034 - val_acc: 0.0244\n",
            "Epoch 4/100\n",
            "3/3 - 0s - loss: 0.0157 - acc: 0.0115 - val_loss: 0.0026 - val_acc: 0.0244\n",
            "Epoch 5/100\n",
            "3/3 - 0s - loss: 0.0090 - acc: 0.0115 - val_loss: 0.0033 - val_acc: 0.0244\n",
            "Epoch 6/100\n",
            "3/3 - 0s - loss: 0.0072 - acc: 0.0115 - val_loss: 0.0048 - val_acc: 0.0244\n",
            "Epoch 7/100\n",
            "3/3 - 0s - loss: 0.0074 - acc: 0.0115 - val_loss: 0.0060 - val_acc: 0.0244\n",
            "Epoch 8/100\n",
            "3/3 - 0s - loss: 0.0082 - acc: 0.0115 - val_loss: 0.0064 - val_acc: 0.0244\n",
            "Epoch 9/100\n",
            "3/3 - 0s - loss: 0.0082 - acc: 0.0115 - val_loss: 0.0058 - val_acc: 0.0244\n",
            "Epoch 10/100\n",
            "3/3 - 0s - loss: 0.0074 - acc: 0.0115 - val_loss: 0.0047 - val_acc: 0.0244\n",
            "Epoch 11/100\n",
            "3/3 - 0s - loss: 0.0063 - acc: 0.0115 - val_loss: 0.0036 - val_acc: 0.0244\n",
            "Epoch 12/100\n",
            "3/3 - 0s - loss: 0.0056 - acc: 0.0115 - val_loss: 0.0027 - val_acc: 0.0244\n",
            "Epoch 13/100\n",
            "3/3 - 0s - loss: 0.0051 - acc: 0.0115 - val_loss: 0.0023 - val_acc: 0.0244\n",
            "Epoch 14/100\n",
            "3/3 - 0s - loss: 0.0051 - acc: 0.0115 - val_loss: 0.0020 - val_acc: 0.0244\n",
            "Epoch 15/100\n",
            "3/3 - 0s - loss: 0.0050 - acc: 0.0115 - val_loss: 0.0019 - val_acc: 0.0244\n",
            "Epoch 16/100\n",
            "3/3 - 0s - loss: 0.0048 - acc: 0.0115 - val_loss: 0.0018 - val_acc: 0.0244\n",
            "Epoch 17/100\n",
            "3/3 - 0s - loss: 0.0045 - acc: 0.0115 - val_loss: 0.0019 - val_acc: 0.0244\n",
            "Epoch 18/100\n",
            "3/3 - 0s - loss: 0.0042 - acc: 0.0115 - val_loss: 0.0019 - val_acc: 0.0244\n",
            "Epoch 19/100\n",
            "3/3 - 0s - loss: 0.0040 - acc: 0.0115 - val_loss: 0.0019 - val_acc: 0.0244\n",
            "Epoch 20/100\n",
            "3/3 - 0s - loss: 0.0038 - acc: 0.0115 - val_loss: 0.0019 - val_acc: 0.0244\n",
            "Epoch 21/100\n",
            "3/3 - 0s - loss: 0.0037 - acc: 0.0115 - val_loss: 0.0018 - val_acc: 0.0244\n",
            "Epoch 22/100\n",
            "3/3 - 0s - loss: 0.0036 - acc: 0.0115 - val_loss: 0.0017 - val_acc: 0.0244\n",
            "Epoch 23/100\n",
            "3/3 - 0s - loss: 0.0035 - acc: 0.0115 - val_loss: 0.0017 - val_acc: 0.0244\n",
            "Epoch 24/100\n",
            "3/3 - 0s - loss: 0.0035 - acc: 0.0115 - val_loss: 0.0016 - val_acc: 0.0244\n",
            "Epoch 25/100\n",
            "3/3 - 0s - loss: 0.0034 - acc: 0.0115 - val_loss: 0.0016 - val_acc: 0.0244\n",
            "Epoch 26/100\n",
            "3/3 - 0s - loss: 0.0033 - acc: 0.0115 - val_loss: 0.0015 - val_acc: 0.0244\n",
            "Epoch 27/100\n",
            "3/3 - 0s - loss: 0.0033 - acc: 0.0115 - val_loss: 0.0015 - val_acc: 0.0244\n",
            "Epoch 28/100\n",
            "3/3 - 0s - loss: 0.0032 - acc: 0.0115 - val_loss: 0.0015 - val_acc: 0.0244\n",
            "Epoch 29/100\n",
            "3/3 - 0s - loss: 0.0032 - acc: 0.0115 - val_loss: 0.0015 - val_acc: 0.0244\n",
            "Epoch 30/100\n",
            "3/3 - 0s - loss: 0.0031 - acc: 0.0115 - val_loss: 0.0015 - val_acc: 0.0244\n",
            "Epoch 31/100\n",
            "3/3 - 0s - loss: 0.0031 - acc: 0.0115 - val_loss: 0.0014 - val_acc: 0.0244\n",
            "Epoch 32/100\n",
            "3/3 - 0s - loss: 0.0030 - acc: 0.0115 - val_loss: 0.0014 - val_acc: 0.0244\n",
            "Epoch 33/100\n",
            "3/3 - 0s - loss: 0.0029 - acc: 0.0115 - val_loss: 0.0014 - val_acc: 0.0244\n",
            "Epoch 34/100\n",
            "3/3 - 0s - loss: 0.0029 - acc: 0.0115 - val_loss: 0.0014 - val_acc: 0.0244\n",
            "Epoch 35/100\n",
            "3/3 - 0s - loss: 0.0029 - acc: 0.0115 - val_loss: 0.0014 - val_acc: 0.0244\n",
            "Epoch 36/100\n",
            "3/3 - 0s - loss: 0.0028 - acc: 0.0115 - val_loss: 0.0014 - val_acc: 0.0244\n",
            "Epoch 37/100\n",
            "3/3 - 0s - loss: 0.0028 - acc: 0.0115 - val_loss: 0.0013 - val_acc: 0.0244\n",
            "Epoch 38/100\n",
            "3/3 - 0s - loss: 0.0027 - acc: 0.0115 - val_loss: 0.0013 - val_acc: 0.0244\n",
            "Epoch 39/100\n",
            "3/3 - 0s - loss: 0.0027 - acc: 0.0115 - val_loss: 0.0013 - val_acc: 0.0244\n",
            "Epoch 40/100\n",
            "3/3 - 0s - loss: 0.0027 - acc: 0.0115 - val_loss: 0.0013 - val_acc: 0.0244\n",
            "Epoch 41/100\n",
            "3/3 - 0s - loss: 0.0027 - acc: 0.0115 - val_loss: 0.0013 - val_acc: 0.0244\n",
            "Epoch 42/100\n",
            "3/3 - 0s - loss: 0.0026 - acc: 0.0115 - val_loss: 0.0013 - val_acc: 0.0244\n",
            "Epoch 43/100\n",
            "3/3 - 0s - loss: 0.0026 - acc: 0.0115 - val_loss: 0.0012 - val_acc: 0.0244\n",
            "Epoch 44/100\n",
            "3/3 - 0s - loss: 0.0025 - acc: 0.0115 - val_loss: 0.0012 - val_acc: 0.0244\n",
            "Epoch 45/100\n",
            "3/3 - 0s - loss: 0.0025 - acc: 0.0115 - val_loss: 0.0012 - val_acc: 0.0244\n",
            "Epoch 46/100\n",
            "3/3 - 0s - loss: 0.0025 - acc: 0.0115 - val_loss: 0.0012 - val_acc: 0.0244\n",
            "Epoch 47/100\n",
            "3/3 - 0s - loss: 0.0024 - acc: 0.0115 - val_loss: 0.0012 - val_acc: 0.0244\n",
            "Epoch 48/100\n",
            "3/3 - 0s - loss: 0.0024 - acc: 0.0115 - val_loss: 0.0012 - val_acc: 0.0244\n",
            "Epoch 49/100\n",
            "3/3 - 0s - loss: 0.0023 - acc: 0.0115 - val_loss: 0.0012 - val_acc: 0.0244\n",
            "Epoch 50/100\n",
            "3/3 - 0s - loss: 0.0023 - acc: 0.0115 - val_loss: 0.0012 - val_acc: 0.0244\n",
            "Epoch 51/100\n",
            "3/3 - 0s - loss: 0.0023 - acc: 0.0115 - val_loss: 0.0011 - val_acc: 0.0244\n",
            "Epoch 52/100\n",
            "3/3 - 0s - loss: 0.0022 - acc: 0.0115 - val_loss: 0.0011 - val_acc: 0.0244\n",
            "Epoch 53/100\n",
            "3/3 - 0s - loss: 0.0022 - acc: 0.0115 - val_loss: 0.0011 - val_acc: 0.0244\n",
            "Epoch 54/100\n",
            "3/3 - 0s - loss: 0.0021 - acc: 0.0115 - val_loss: 0.0011 - val_acc: 0.0244\n",
            "Epoch 55/100\n",
            "3/3 - 0s - loss: 0.0021 - acc: 0.0115 - val_loss: 0.0011 - val_acc: 0.0244\n",
            "Epoch 56/100\n",
            "3/3 - 0s - loss: 0.0021 - acc: 0.0115 - val_loss: 0.0011 - val_acc: 0.0244\n",
            "Epoch 57/100\n",
            "3/3 - 0s - loss: 0.0020 - acc: 0.0115 - val_loss: 0.0010 - val_acc: 0.0244\n",
            "Epoch 58/100\n",
            "3/3 - 0s - loss: 0.0020 - acc: 0.0115 - val_loss: 0.0010 - val_acc: 0.0244\n",
            "Epoch 59/100\n",
            "3/3 - 0s - loss: 0.0020 - acc: 0.0115 - val_loss: 0.0010 - val_acc: 0.0244\n",
            "Epoch 60/100\n",
            "3/3 - 0s - loss: 0.0020 - acc: 0.0115 - val_loss: 0.0011 - val_acc: 0.0244\n",
            "Epoch 61/100\n",
            "3/3 - 0s - loss: 0.0019 - acc: 0.0115 - val_loss: 0.0010 - val_acc: 0.0244\n",
            "Epoch 62/100\n",
            "3/3 - 0s - loss: 0.0019 - acc: 0.0115 - val_loss: 9.8439e-04 - val_acc: 0.0244\n",
            "Epoch 63/100\n",
            "3/3 - 0s - loss: 0.0019 - acc: 0.0115 - val_loss: 9.6986e-04 - val_acc: 0.0244\n",
            "Epoch 64/100\n",
            "3/3 - 0s - loss: 0.0019 - acc: 0.0115 - val_loss: 9.9319e-04 - val_acc: 0.0244\n",
            "Epoch 65/100\n",
            "3/3 - 0s - loss: 0.0018 - acc: 0.0115 - val_loss: 9.8372e-04 - val_acc: 0.0244\n",
            "Epoch 66/100\n",
            "3/3 - 0s - loss: 0.0018 - acc: 0.0115 - val_loss: 9.4983e-04 - val_acc: 0.0244\n",
            "Epoch 67/100\n",
            "3/3 - 0s - loss: 0.0018 - acc: 0.0115 - val_loss: 9.5508e-04 - val_acc: 0.0244\n",
            "Epoch 68/100\n",
            "3/3 - 0s - loss: 0.0018 - acc: 0.0115 - val_loss: 9.6729e-04 - val_acc: 0.0244\n",
            "Epoch 69/100\n",
            "3/3 - 0s - loss: 0.0018 - acc: 0.0115 - val_loss: 9.4295e-04 - val_acc: 0.0244\n",
            "Epoch 70/100\n",
            "3/3 - 0s - loss: 0.0018 - acc: 0.0115 - val_loss: 9.2288e-04 - val_acc: 0.0244\n",
            "Epoch 71/100\n",
            "3/3 - 0s - loss: 0.0017 - acc: 0.0115 - val_loss: 9.3928e-04 - val_acc: 0.0244\n",
            "Epoch 72/100\n",
            "3/3 - 0s - loss: 0.0017 - acc: 0.0115 - val_loss: 9.7686e-04 - val_acc: 0.0244\n",
            "Epoch 73/100\n",
            "3/3 - 0s - loss: 0.0017 - acc: 0.0115 - val_loss: 9.5929e-04 - val_acc: 0.0244\n",
            "Epoch 74/100\n",
            "3/3 - 0s - loss: 0.0017 - acc: 0.0115 - val_loss: 9.0865e-04 - val_acc: 0.0244\n",
            "Epoch 75/100\n",
            "3/3 - 0s - loss: 0.0017 - acc: 0.0115 - val_loss: 8.9884e-04 - val_acc: 0.0244\n",
            "Epoch 76/100\n",
            "3/3 - 0s - loss: 0.0017 - acc: 0.0115 - val_loss: 9.0516e-04 - val_acc: 0.0244\n",
            "Epoch 77/100\n",
            "3/3 - 0s - loss: 0.0017 - acc: 0.0115 - val_loss: 9.4606e-04 - val_acc: 0.0244\n",
            "Epoch 78/100\n",
            "3/3 - 0s - loss: 0.0017 - acc: 0.0115 - val_loss: 9.6376e-04 - val_acc: 0.0244\n",
            "Epoch 79/100\n",
            "3/3 - 0s - loss: 0.0017 - acc: 0.0115 - val_loss: 8.9831e-04 - val_acc: 0.0244\n",
            "Epoch 80/100\n",
            "3/3 - 0s - loss: 0.0017 - acc: 0.0115 - val_loss: 8.8341e-04 - val_acc: 0.0244\n",
            "Epoch 81/100\n",
            "3/3 - 0s - loss: 0.0016 - acc: 0.0115 - val_loss: 9.1072e-04 - val_acc: 0.0244\n",
            "Epoch 82/100\n",
            "3/3 - 0s - loss: 0.0016 - acc: 0.0115 - val_loss: 9.3518e-04 - val_acc: 0.0244\n",
            "Epoch 83/100\n",
            "3/3 - 0s - loss: 0.0016 - acc: 0.0115 - val_loss: 9.2298e-04 - val_acc: 0.0244\n",
            "Epoch 84/100\n",
            "3/3 - 0s - loss: 0.0016 - acc: 0.0115 - val_loss: 8.9377e-04 - val_acc: 0.0244\n",
            "Epoch 85/100\n",
            "3/3 - 0s - loss: 0.0016 - acc: 0.0115 - val_loss: 8.8432e-04 - val_acc: 0.0244\n",
            "Epoch 86/100\n",
            "3/3 - 0s - loss: 0.0016 - acc: 0.0115 - val_loss: 8.9418e-04 - val_acc: 0.0244\n",
            "Epoch 87/100\n",
            "3/3 - 0s - loss: 0.0016 - acc: 0.0115 - val_loss: 9.0554e-04 - val_acc: 0.0244\n",
            "Epoch 88/100\n",
            "3/3 - 0s - loss: 0.0016 - acc: 0.0115 - val_loss: 8.8384e-04 - val_acc: 0.0244\n",
            "Epoch 89/100\n",
            "3/3 - 0s - loss: 0.0016 - acc: 0.0115 - val_loss: 8.5980e-04 - val_acc: 0.0244\n",
            "Epoch 90/100\n",
            "3/3 - 0s - loss: 0.0016 - acc: 0.0115 - val_loss: 8.5583e-04 - val_acc: 0.0244\n",
            "Epoch 91/100\n",
            "3/3 - 0s - loss: 0.0016 - acc: 0.0115 - val_loss: 8.7796e-04 - val_acc: 0.0244\n",
            "Epoch 92/100\n",
            "3/3 - 0s - loss: 0.0015 - acc: 0.0115 - val_loss: 8.8206e-04 - val_acc: 0.0244\n",
            "Epoch 93/100\n",
            "3/3 - 0s - loss: 0.0015 - acc: 0.0115 - val_loss: 8.9793e-04 - val_acc: 0.0244\n",
            "Epoch 94/100\n",
            "3/3 - 0s - loss: 0.0015 - acc: 0.0115 - val_loss: 8.7387e-04 - val_acc: 0.0244\n",
            "Epoch 95/100\n",
            "3/3 - 0s - loss: 0.0015 - acc: 0.0115 - val_loss: 8.5026e-04 - val_acc: 0.0244\n",
            "Epoch 96/100\n",
            "3/3 - 0s - loss: 0.0015 - acc: 0.0115 - val_loss: 8.5167e-04 - val_acc: 0.0244\n",
            "Epoch 97/100\n",
            "3/3 - 0s - loss: 0.0015 - acc: 0.0115 - val_loss: 8.7084e-04 - val_acc: 0.0244\n",
            "Epoch 98/100\n",
            "3/3 - 0s - loss: 0.0015 - acc: 0.0115 - val_loss: 8.5616e-04 - val_acc: 0.0244\n",
            "Epoch 99/100\n",
            "3/3 - 0s - loss: 0.0015 - acc: 0.0115 - val_loss: 8.3565e-04 - val_acc: 0.0244\n",
            "Epoch 100/100\n",
            "3/3 - 0s - loss: 0.0015 - acc: 0.0115 - val_loss: 8.4592e-04 - val_acc: 0.0244\n"
          ],
          "name": "stdout"
        },
        {
          "output_type": "execute_result",
          "data": {
            "text/plain": [
              "<keras.callbacks.History at 0x7fb5dd13e9d0>"
            ]
          },
          "metadata": {
            "tags": []
          },
          "execution_count": 45
        }
      ]
    },
    {
      "cell_type": "code",
      "metadata": {
        "id": "0yhueeJoKGPG"
      },
      "source": [
        "pred_tr = model.predict(X_train)\n",
        "pred_te = model.predict(X_test)"
      ],
      "execution_count": null,
      "outputs": []
    },
    {
      "cell_type": "code",
      "metadata": {
        "id": "3ZVRHItBKkwL"
      },
      "source": [
        "# Inverse transformation to bring actual values\n",
        "\n",
        "pred_tr = scaler.inverse_transform(pred_tr)\n",
        "ytr_act = scaler.inverse_transform([y_train])\n",
        "pred_te = scaler.inverse_transform(pred_te)\n",
        "yte_act = scaler.inverse_transform([y_test])"
      ],
      "execution_count": null,
      "outputs": []
    },
    {
      "cell_type": "code",
      "metadata": {
        "colab": {
          "base_uri": "https://localhost:8080/"
        },
        "id": "5GBt4u4TLA3S",
        "outputId": "a262744f-9692-445c-de54-10bf770e0c33"
      },
      "source": [
        "train_rmse = math.sqrt(mean_squared_error(ytr_act[0], pred_tr[:,0]))\n",
        "test_rmse = math.sqrt(mean_squared_error(yte_act[0], pred_te[:,0]))\n",
        "train_rmse,test_rmse"
      ],
      "execution_count": null,
      "outputs": [
        {
          "output_type": "execute_result",
          "data": {
            "text/plain": [
              "(19.806734931482907, 15.065882909982948)"
            ]
          },
          "metadata": {
            "tags": []
          },
          "execution_count": 62
        }
      ]
    },
    {
      "cell_type": "code",
      "metadata": {
        "id": "OUrGu9N-LxxL"
      },
      "source": [
        "# Unfloding data for plotting\n",
        "predtr_plot = np.empty_like(df)\n",
        "predtr_plot[:, :] = np.nan  # empty array with nan values\n",
        "predtr_plot[win_size:len(pred_tr)+win_size, :] = pred_tr\n",
        "\n",
        "predtest_plot = np.empty_like(df)\n",
        "predtest_plot[:, :] = np.nan\n",
        "predtest_plot[len(pred_tr)+(win_size*2)+1:len(df)-1, :] = pred_te"
      ],
      "execution_count": null,
      "outputs": []
    }
  ]
}