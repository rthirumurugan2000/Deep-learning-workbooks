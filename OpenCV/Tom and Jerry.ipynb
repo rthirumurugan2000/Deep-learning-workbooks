{
 "cells": [
  {
   "cell_type": "markdown",
   "metadata": {},
   "source": [
    "# Calculate Screen time of an actor:"
   ]
  },
  {
   "cell_type": "code",
   "execution_count": 1,
   "metadata": {},
   "outputs": [
    {
     "name": "stderr",
     "output_type": "stream",
     "text": [
      "Using TensorFlow backend.\n"
     ]
    }
   ],
   "source": [
    "# Imports\n",
    "\n",
    "import pandas as pd\n",
    "import numpy as np\n",
    "import matplotlib.pyplot as plt    \n",
    "%matplotlib inline\n",
    "\n",
    "import cv2  \n",
    "import math   \n",
    "from keras.preprocessing import image   # for preprocessing the images\n",
    "from keras.utils import np_utils\n",
    "from skimage.transform import resize  "
   ]
  },
  {
   "cell_type": "code",
   "execution_count": 3,
   "metadata": {},
   "outputs": [
    {
     "name": "stdout",
     "output_type": "stream",
     "text": [
      "Frame Capturing done!\n"
     ]
    }
   ],
   "source": [
    "count = 0\n",
    "\n",
    "videoFile = \"Tom and jerry.mp4\"\n",
    "cap = cv2.VideoCapture(videoFile)    # Capturing Video\n",
    "frameRate = cap.get(5)\n",
    "x=1\n",
    "\n",
    "while(cap.isOpened()):\n",
    "    frameId = cap.get(1)  #current frame number\n",
    "    ret, frame = cap.read()\n",
    "    if (ret != True):\n",
    "        break\n",
    "    if (frameId % math.floor(frameRate) == 0):\n",
    "        filename =\"frame%d.jpg\" % count;\n",
    "        count+=1\n",
    "        cv2.imwrite(filename, frame)\n",
    "cap.release()\n",
    "print (\"Frame Capturing done!\")"
   ]
  },
  {
   "cell_type": "code",
   "execution_count": 4,
   "metadata": {},
   "outputs": [
    {
     "data": {
      "text/plain": [
       "30.0"
      ]
     },
     "execution_count": 4,
     "metadata": {},
     "output_type": "execute_result"
    }
   ],
   "source": [
    "frameRate"
   ]
  },
  {
   "cell_type": "code",
   "execution_count": 5,
   "metadata": {},
   "outputs": [
    {
     "data": {
      "text/html": [
       "<div>\n",
       "<style scoped>\n",
       "    .dataframe tbody tr th:only-of-type {\n",
       "        vertical-align: middle;\n",
       "    }\n",
       "\n",
       "    .dataframe tbody tr th {\n",
       "        vertical-align: top;\n",
       "    }\n",
       "\n",
       "    .dataframe thead th {\n",
       "        text-align: right;\n",
       "    }\n",
       "</style>\n",
       "<table border=\"1\" class=\"dataframe\">\n",
       "  <thead>\n",
       "    <tr style=\"text-align: right;\">\n",
       "      <th></th>\n",
       "      <th>Image_ID</th>\n",
       "      <th>Class</th>\n",
       "    </tr>\n",
       "  </thead>\n",
       "  <tbody>\n",
       "    <tr>\n",
       "      <th>0</th>\n",
       "      <td>frame0.jpg</td>\n",
       "      <td>1</td>\n",
       "    </tr>\n",
       "    <tr>\n",
       "      <th>1</th>\n",
       "      <td>frame1.jpg</td>\n",
       "      <td>1</td>\n",
       "    </tr>\n",
       "    <tr>\n",
       "      <th>2</th>\n",
       "      <td>frame2.jpg</td>\n",
       "      <td>2</td>\n",
       "    </tr>\n",
       "    <tr>\n",
       "      <th>3</th>\n",
       "      <td>frame3.jpg</td>\n",
       "      <td>2</td>\n",
       "    </tr>\n",
       "    <tr>\n",
       "      <th>4</th>\n",
       "      <td>frame4.jpg</td>\n",
       "      <td>2</td>\n",
       "    </tr>\n",
       "  </tbody>\n",
       "</table>\n",
       "</div>"
      ],
      "text/plain": [
       "     Image_ID  Class\n",
       "0  frame0.jpg      1\n",
       "1  frame1.jpg      1\n",
       "2  frame2.jpg      2\n",
       "3  frame3.jpg      2\n",
       "4  frame4.jpg      2"
      ]
     },
     "execution_count": 5,
     "metadata": {},
     "output_type": "execute_result"
    }
   ],
   "source": [
    "data = pd.read_csv('mapping.csv')   \n",
    "data.head() "
   ]
  },
  {
   "cell_type": "code",
   "execution_count": 7,
   "metadata": {},
   "outputs": [],
   "source": [
    "X = [ ] \n",
    "\n",
    "X = [ ]     \n",
    "for img_name in data.Image_ID:\n",
    "    img = plt.imread('' + img_name)\n",
    "    X.append(img)  \n",
    "X = np.array(X)"
   ]
  },
  {
   "cell_type": "code",
   "execution_count": 10,
   "metadata": {},
   "outputs": [
    {
     "data": {
      "text/plain": [
       "(298, 720, 1280, 3)"
      ]
     },
     "execution_count": 10,
     "metadata": {},
     "output_type": "execute_result"
    }
   ],
   "source": [
    "X.shape"
   ]
  },
  {
   "cell_type": "code",
   "execution_count": 11,
   "metadata": {},
   "outputs": [],
   "source": [
    "y = data.Class\n",
    "dummy_y = np_utils.to_categorical(y)  #converting to categorical variables"
   ]
  },
  {
   "cell_type": "code",
   "execution_count": 12,
   "metadata": {},
   "outputs": [
    {
     "data": {
      "text/plain": [
       "array([[0., 1., 0.],\n",
       "       [0., 1., 0.],\n",
       "       [0., 0., 1.],\n",
       "       [0., 0., 1.],\n",
       "       [0., 0., 1.],\n",
       "       [0., 0., 1.],\n",
       "       [0., 0., 1.],\n",
       "       [0., 0., 1.],\n",
       "       [0., 0., 1.],\n",
       "       [0., 0., 1.],\n",
       "       [0., 0., 1.],\n",
       "       [1., 0., 0.],\n",
       "       [0., 0., 1.],\n",
       "       [0., 0., 1.],\n",
       "       [0., 1., 0.],\n",
       "       [0., 1., 0.],\n",
       "       [0., 0., 1.],\n",
       "       [0., 1., 0.],\n",
       "       [0., 0., 1.],\n",
       "       [0., 0., 1.],\n",
       "       [0., 0., 1.],\n",
       "       [1., 0., 0.],\n",
       "       [1., 0., 0.],\n",
       "       [0., 0., 1.],\n",
       "       [0., 0., 1.],\n",
       "       [0., 0., 1.],\n",
       "       [0., 0., 1.],\n",
       "       [0., 0., 1.],\n",
       "       [0., 0., 1.],\n",
       "       [0., 0., 1.],\n",
       "       [0., 0., 1.],\n",
       "       [0., 0., 1.],\n",
       "       [1., 0., 0.],\n",
       "       [1., 0., 0.],\n",
       "       [0., 0., 1.],\n",
       "       [0., 0., 1.],\n",
       "       [0., 0., 1.],\n",
       "       [0., 0., 1.],\n",
       "       [1., 0., 0.],\n",
       "       [1., 0., 0.],\n",
       "       [1., 0., 0.],\n",
       "       [0., 0., 1.],\n",
       "       [0., 0., 1.],\n",
       "       [0., 0., 1.],\n",
       "       [0., 0., 1.],\n",
       "       [0., 0., 1.],\n",
       "       [0., 0., 1.],\n",
       "       [0., 0., 1.],\n",
       "       [0., 0., 1.],\n",
       "       [0., 0., 1.],\n",
       "       [1., 0., 0.],\n",
       "       [0., 0., 1.],\n",
       "       [0., 0., 1.],\n",
       "       [0., 1., 0.],\n",
       "       [1., 0., 0.],\n",
       "       [1., 0., 0.],\n",
       "       [0., 1., 0.],\n",
       "       [0., 0., 1.],\n",
       "       [0., 0., 1.],\n",
       "       [0., 0., 1.],\n",
       "       [0., 0., 1.],\n",
       "       [0., 0., 1.],\n",
       "       [0., 1., 0.],\n",
       "       [0., 1., 0.],\n",
       "       [0., 1., 0.],\n",
       "       [0., 0., 1.],\n",
       "       [0., 0., 1.],\n",
       "       [0., 1., 0.],\n",
       "       [0., 1., 0.],\n",
       "       [0., 0., 1.],\n",
       "       [0., 0., 1.],\n",
       "       [0., 0., 1.],\n",
       "       [0., 0., 1.],\n",
       "       [1., 0., 0.],\n",
       "       [1., 0., 0.],\n",
       "       [1., 0., 0.],\n",
       "       [1., 0., 0.],\n",
       "       [1., 0., 0.],\n",
       "       [0., 1., 0.],\n",
       "       [1., 0., 0.],\n",
       "       [0., 0., 1.],\n",
       "       [1., 0., 0.],\n",
       "       [1., 0., 0.],\n",
       "       [0., 0., 1.],\n",
       "       [0., 0., 1.],\n",
       "       [0., 1., 0.],\n",
       "       [1., 0., 0.],\n",
       "       [0., 1., 0.],\n",
       "       [0., 1., 0.],\n",
       "       [0., 1., 0.],\n",
       "       [0., 1., 0.],\n",
       "       [0., 1., 0.],\n",
       "       [1., 0., 0.],\n",
       "       [1., 0., 0.],\n",
       "       [0., 0., 1.],\n",
       "       [1., 0., 0.],\n",
       "       [0., 1., 0.],\n",
       "       [0., 1., 0.],\n",
       "       [0., 1., 0.],\n",
       "       [0., 0., 1.],\n",
       "       [0., 0., 1.],\n",
       "       [0., 0., 1.],\n",
       "       [1., 0., 0.],\n",
       "       [1., 0., 0.],\n",
       "       [1., 0., 0.],\n",
       "       [1., 0., 0.],\n",
       "       [1., 0., 0.],\n",
       "       [1., 0., 0.],\n",
       "       [1., 0., 0.],\n",
       "       [1., 0., 0.],\n",
       "       [1., 0., 0.],\n",
       "       [1., 0., 0.],\n",
       "       [1., 0., 0.],\n",
       "       [1., 0., 0.],\n",
       "       [1., 0., 0.],\n",
       "       [1., 0., 0.],\n",
       "       [1., 0., 0.],\n",
       "       [1., 0., 0.],\n",
       "       [1., 0., 0.],\n",
       "       [1., 0., 0.],\n",
       "       [1., 0., 0.],\n",
       "       [1., 0., 0.],\n",
       "       [0., 0., 1.],\n",
       "       [0., 0., 1.],\n",
       "       [0., 0., 1.],\n",
       "       [0., 0., 1.],\n",
       "       [0., 0., 1.],\n",
       "       [0., 0., 1.],\n",
       "       [1., 0., 0.],\n",
       "       [0., 0., 1.],\n",
       "       [0., 0., 1.],\n",
       "       [0., 0., 1.],\n",
       "       [0., 0., 1.],\n",
       "       [0., 0., 1.],\n",
       "       [0., 0., 1.],\n",
       "       [0., 0., 1.],\n",
       "       [1., 0., 0.],\n",
       "       [1., 0., 0.],\n",
       "       [1., 0., 0.],\n",
       "       [0., 1., 0.],\n",
       "       [0., 1., 0.],\n",
       "       [1., 0., 0.],\n",
       "       [0., 0., 1.],\n",
       "       [0., 0., 1.],\n",
       "       [0., 0., 1.],\n",
       "       [0., 0., 1.],\n",
       "       [0., 0., 1.],\n",
       "       [0., 0., 1.],\n",
       "       [0., 0., 1.],\n",
       "       [0., 0., 1.],\n",
       "       [0., 0., 1.],\n",
       "       [0., 0., 1.],\n",
       "       [0., 0., 1.],\n",
       "       [0., 0., 1.],\n",
       "       [0., 0., 1.],\n",
       "       [1., 0., 0.],\n",
       "       [1., 0., 0.],\n",
       "       [0., 1., 0.],\n",
       "       [1., 0., 0.],\n",
       "       [1., 0., 0.],\n",
       "       [0., 1., 0.],\n",
       "       [0., 1., 0.],\n",
       "       [0., 1., 0.],\n",
       "       [0., 1., 0.],\n",
       "       [0., 1., 0.],\n",
       "       [0., 1., 0.],\n",
       "       [0., 1., 0.],\n",
       "       [0., 1., 0.],\n",
       "       [0., 1., 0.],\n",
       "       [0., 1., 0.],\n",
       "       [0., 1., 0.],\n",
       "       [0., 1., 0.],\n",
       "       [0., 1., 0.],\n",
       "       [0., 1., 0.],\n",
       "       [0., 0., 1.],\n",
       "       [1., 0., 0.],\n",
       "       [1., 0., 0.],\n",
       "       [1., 0., 0.],\n",
       "       [0., 1., 0.],\n",
       "       [0., 1., 0.],\n",
       "       [0., 1., 0.],\n",
       "       [0., 1., 0.],\n",
       "       [0., 1., 0.],\n",
       "       [0., 1., 0.],\n",
       "       [0., 1., 0.],\n",
       "       [1., 0., 0.],\n",
       "       [1., 0., 0.],\n",
       "       [1., 0., 0.],\n",
       "       [1., 0., 0.],\n",
       "       [0., 1., 0.],\n",
       "       [0., 1., 0.],\n",
       "       [0., 1., 0.],\n",
       "       [0., 1., 0.],\n",
       "       [0., 1., 0.],\n",
       "       [1., 0., 0.],\n",
       "       [1., 0., 0.],\n",
       "       [1., 0., 0.],\n",
       "       [1., 0., 0.],\n",
       "       [1., 0., 0.],\n",
       "       [1., 0., 0.],\n",
       "       [0., 0., 1.],\n",
       "       [0., 0., 1.],\n",
       "       [0., 0., 1.],\n",
       "       [0., 0., 1.],\n",
       "       [0., 0., 1.],\n",
       "       [0., 0., 1.],\n",
       "       [0., 0., 1.],\n",
       "       [0., 0., 1.],\n",
       "       [0., 1., 0.],\n",
       "       [0., 1., 0.],\n",
       "       [0., 1., 0.],\n",
       "       [0., 1., 0.],\n",
       "       [0., 1., 0.],\n",
       "       [1., 0., 0.],\n",
       "       [1., 0., 0.],\n",
       "       [1., 0., 0.],\n",
       "       [1., 0., 0.],\n",
       "       [1., 0., 0.],\n",
       "       [1., 0., 0.],\n",
       "       [1., 0., 0.],\n",
       "       [1., 0., 0.],\n",
       "       [1., 0., 0.],\n",
       "       [1., 0., 0.],\n",
       "       [1., 0., 0.],\n",
       "       [1., 0., 0.],\n",
       "       [1., 0., 0.],\n",
       "       [1., 0., 0.],\n",
       "       [0., 0., 1.],\n",
       "       [0., 0., 1.],\n",
       "       [0., 1., 0.],\n",
       "       [0., 1., 0.],\n",
       "       [0., 0., 1.],\n",
       "       [0., 0., 1.],\n",
       "       [0., 0., 1.],\n",
       "       [0., 0., 1.],\n",
       "       [0., 0., 1.],\n",
       "       [0., 0., 1.],\n",
       "       [0., 0., 1.],\n",
       "       [0., 0., 1.],\n",
       "       [0., 0., 1.],\n",
       "       [0., 0., 1.],\n",
       "       [0., 0., 1.],\n",
       "       [0., 0., 1.],\n",
       "       [0., 0., 1.],\n",
       "       [0., 1., 0.],\n",
       "       [0., 1., 0.],\n",
       "       [0., 1., 0.],\n",
       "       [1., 0., 0.],\n",
       "       [1., 0., 0.],\n",
       "       [1., 0., 0.],\n",
       "       [1., 0., 0.],\n",
       "       [0., 1., 0.],\n",
       "       [0., 1., 0.],\n",
       "       [0., 1., 0.],\n",
       "       [0., 1., 0.],\n",
       "       [0., 0., 1.],\n",
       "       [0., 0., 1.],\n",
       "       [1., 0., 0.],\n",
       "       [0., 0., 1.],\n",
       "       [0., 0., 1.],\n",
       "       [1., 0., 0.],\n",
       "       [0., 0., 1.],\n",
       "       [1., 0., 0.],\n",
       "       [1., 0., 0.],\n",
       "       [1., 0., 0.],\n",
       "       [1., 0., 0.],\n",
       "       [0., 0., 1.],\n",
       "       [1., 0., 0.],\n",
       "       [1., 0., 0.],\n",
       "       [1., 0., 0.],\n",
       "       [0., 1., 0.],\n",
       "       [0., 1., 0.],\n",
       "       [1., 0., 0.],\n",
       "       [1., 0., 0.],\n",
       "       [0., 0., 1.],\n",
       "       [1., 0., 0.],\n",
       "       [1., 0., 0.],\n",
       "       [0., 0., 1.],\n",
       "       [0., 0., 1.],\n",
       "       [0., 0., 1.],\n",
       "       [0., 0., 1.],\n",
       "       [0., 0., 1.],\n",
       "       [0., 0., 1.],\n",
       "       [1., 0., 0.],\n",
       "       [1., 0., 0.],\n",
       "       [1., 0., 0.],\n",
       "       [1., 0., 0.],\n",
       "       [1., 0., 0.],\n",
       "       [1., 0., 0.],\n",
       "       [1., 0., 0.],\n",
       "       [1., 0., 0.],\n",
       "       [1., 0., 0.],\n",
       "       [1., 0., 0.],\n",
       "       [1., 0., 0.],\n",
       "       [1., 0., 0.],\n",
       "       [1., 0., 0.],\n",
       "       [1., 0., 0.],\n",
       "       [1., 0., 0.]], dtype=float32)"
      ]
     },
     "execution_count": 12,
     "metadata": {},
     "output_type": "execute_result"
    }
   ],
   "source": [
    "dummy_y"
   ]
  },
  {
   "cell_type": "markdown",
   "metadata": {},
   "source": [
    "### VGG-16 Pre-trained model:\n",
    "    VGG16 is a convolutional neural network model proposed by K. Simonyan and A. Zisserman from the University of Oxford in the paper “Very Deep Convolutional Networks for Large-Scale Image Recognition”. The model achieves 92.7% top-5 test accuracy in ImageNet.\n",
    "    \n",
    "Takes an input image of shape (224 X 224 X 3)"
   ]
  },
  {
   "cell_type": "markdown",
   "metadata": {},
   "source": [
    "#### Re-sizing image using skimage.transform"
   ]
  },
  {
   "cell_type": "code",
   "execution_count": 13,
   "metadata": {},
   "outputs": [],
   "source": [
    "image = []\n",
    "for i in range(0,X.shape[0]):\n",
    "    a = resize(X[i], preserve_range=True, output_shape=(224,224)).astype(int)      # reshaping to 224*224*3\n",
    "    image.append(a)\n",
    "X = np.array(image)"
   ]
  },
  {
   "cell_type": "markdown",
   "metadata": {},
   "source": [
    "#### Pre-processing as per model requirement:"
   ]
  },
  {
   "cell_type": "code",
   "execution_count": 14,
   "metadata": {},
   "outputs": [],
   "source": [
    "from keras.applications.vgg16 import preprocess_input\n",
    "X = preprocess_input(X, mode='tf')  "
   ]
  },
  {
   "cell_type": "code",
   "execution_count": 29,
   "metadata": {},
   "outputs": [],
   "source": [
    "# preparing the validation set\n",
    "\n",
    "from sklearn.model_selection import train_test_split\n",
    "X_train, X_valid, y_train, y_valid = train_test_split(X, dummy_y, test_size=0.3, random_state=42) "
   ]
  },
  {
   "cell_type": "markdown",
   "metadata": {},
   "source": [
    "## Building model:"
   ]
  },
  {
   "cell_type": "code",
   "execution_count": 30,
   "metadata": {},
   "outputs": [],
   "source": [
    "# Imports\n",
    "\n",
    "from keras.models import Sequential\n",
    "from keras.applications.vgg16 import VGG16\n",
    "from keras.layers import Dense, InputLayer, Dropout"
   ]
  },
  {
   "cell_type": "code",
   "execution_count": 31,
   "metadata": {},
   "outputs": [],
   "source": [
    "base_model = VGG16(weights='imagenet', include_top=False, input_shape=(224, 224, 3))    \n",
    "# include_top=False to remove the top layer"
   ]
  },
  {
   "cell_type": "code",
   "execution_count": 32,
   "metadata": {},
   "outputs": [],
   "source": [
    "X_train = base_model.predict(X_train)\n",
    "X_valid = base_model.predict(X_valid)"
   ]
  },
  {
   "cell_type": "code",
   "execution_count": 19,
   "metadata": {},
   "outputs": [
    {
     "data": {
      "text/plain": [
       "((208, 7, 7, 512), (90, 7, 7, 512))"
      ]
     },
     "execution_count": 19,
     "metadata": {},
     "output_type": "execute_result"
    }
   ],
   "source": [
    "X_train.shape, X_valid.shape"
   ]
  },
  {
   "cell_type": "markdown",
   "metadata": {},
   "source": [
    "### Re-shaping to 1D"
   ]
  },
  {
   "cell_type": "code",
   "execution_count": 33,
   "metadata": {},
   "outputs": [],
   "source": [
    "X_train = X_train.reshape(208, 7*7*512)      # converting to 1-D\n",
    "X_valid = X_valid.reshape(90, 7*7*512)"
   ]
  },
  {
   "cell_type": "markdown",
   "metadata": {},
   "source": [
    "##### Making images zero-centered (  dataset is symmetric,which makes it easier to converge)"
   ]
  },
  {
   "cell_type": "code",
   "execution_count": 35,
   "metadata": {},
   "outputs": [],
   "source": [
    "train = X_train/X_train.max()      # centering the data\n",
    "X_valid = X_valid/X_train.max()"
   ]
  },
  {
   "cell_type": "code",
   "execution_count": 36,
   "metadata": {},
   "outputs": [],
   "source": [
    "# i. Building the model\n",
    "model = Sequential()\n",
    "model.add(InputLayer((7*7*512,)))    # input layer\n",
    "model.add(Dense(units=1024, activation='sigmoid')) # hidden layer\n",
    "model.add(Dense(3, activation='softmax'))    # output layer ( 3 neurons as we have 3 classes to predict)"
   ]
  },
  {
   "cell_type": "code",
   "execution_count": 37,
   "metadata": {},
   "outputs": [
    {
     "name": "stdout",
     "output_type": "stream",
     "text": [
      "Model: \"sequential_3\"\n",
      "_________________________________________________________________\n",
      "Layer (type)                 Output Shape              Param #   \n",
      "=================================================================\n",
      "dense_5 (Dense)              (None, 1024)              25691136  \n",
      "_________________________________________________________________\n",
      "dense_6 (Dense)              (None, 3)                 3075      \n",
      "=================================================================\n",
      "Total params: 25,694,211\n",
      "Trainable params: 25,694,211\n",
      "Non-trainable params: 0\n",
      "_________________________________________________________________\n"
     ]
    }
   ],
   "source": [
    "model.summary()"
   ]
  },
  {
   "cell_type": "code",
   "execution_count": 38,
   "metadata": {},
   "outputs": [],
   "source": [
    "#Compiling the model\n",
    "model.compile(loss='categorical_crossentropy', optimizer='adam', metrics=['accuracy'])"
   ]
  },
  {
   "cell_type": "code",
   "execution_count": 39,
   "metadata": {},
   "outputs": [
    {
     "name": "stdout",
     "output_type": "stream",
     "text": [
      "Train on 208 samples, validate on 90 samples\n",
      "Epoch 1/100\n",
      "208/208 [==============================] - 4s 20ms/step - loss: 1.1597 - accuracy: 0.5288 - val_loss: 1.0599 - val_accuracy: 0.3889\n",
      "Epoch 2/100\n",
      "208/208 [==============================] - 2s 11ms/step - loss: 0.4644 - accuracy: 0.7885 - val_loss: 1.1116 - val_accuracy: 0.3889\n",
      "Epoch 3/100\n",
      "208/208 [==============================] - 2s 11ms/step - loss: 0.3421 - accuracy: 0.8990 - val_loss: 0.9935 - val_accuracy: 0.4333\n",
      "Epoch 4/100\n",
      "208/208 [==============================] - 2s 11ms/step - loss: 0.1810 - accuracy: 0.9615 - val_loss: 0.9545 - val_accuracy: 0.5222\n",
      "Epoch 5/100\n",
      "208/208 [==============================] - 2s 11ms/step - loss: 0.0944 - accuracy: 0.9760 - val_loss: 0.9474 - val_accuracy: 0.3889\n",
      "Epoch 6/100\n",
      "208/208 [==============================] - 2s 11ms/step - loss: 0.0574 - accuracy: 0.9904 - val_loss: 0.9325 - val_accuracy: 0.5667\n",
      "Epoch 7/100\n",
      "208/208 [==============================] - 2s 11ms/step - loss: 0.0460 - accuracy: 0.9952 - val_loss: 0.9416 - val_accuracy: 0.5222\n",
      "Epoch 8/100\n",
      "208/208 [==============================] - 2s 11ms/step - loss: 0.0337 - accuracy: 0.9952 - val_loss: 0.9169 - val_accuracy: 0.5111\n",
      "Epoch 9/100\n",
      "208/208 [==============================] - 2s 12ms/step - loss: 0.0305 - accuracy: 0.9904 - val_loss: 0.9029 - val_accuracy: 0.5111\n",
      "Epoch 10/100\n",
      "208/208 [==============================] - 2s 12ms/step - loss: 0.0268 - accuracy: 0.9952 - val_loss: 0.9101 - val_accuracy: 0.5111\n",
      "Epoch 11/100\n",
      "208/208 [==============================] - 2s 11ms/step - loss: 0.0253 - accuracy: 0.9904 - val_loss: 0.9156 - val_accuracy: 0.5111\n",
      "Epoch 12/100\n",
      "208/208 [==============================] - 2s 11ms/step - loss: 0.0220 - accuracy: 0.9952 - val_loss: 0.9097 - val_accuracy: 0.5111\n",
      "Epoch 13/100\n",
      "208/208 [==============================] - 2s 11ms/step - loss: 0.0218 - accuracy: 0.9952 - val_loss: 0.8958 - val_accuracy: 0.5667\n",
      "Epoch 14/100\n",
      "208/208 [==============================] - 2s 11ms/step - loss: 0.0206 - accuracy: 0.9952 - val_loss: 0.8914 - val_accuracy: 0.5667\n",
      "Epoch 15/100\n",
      "208/208 [==============================] - 2s 12ms/step - loss: 0.0201 - accuracy: 0.9952 - val_loss: 0.8935 - val_accuracy: 0.5667\n",
      "Epoch 16/100\n",
      "208/208 [==============================] - 2s 10ms/step - loss: 0.0268 - accuracy: 0.9952 - val_loss: 0.8810 - val_accuracy: 0.6111\n",
      "Epoch 17/100\n",
      "208/208 [==============================] - 2s 11ms/step - loss: 0.0210 - accuracy: 0.9952 - val_loss: 0.9095 - val_accuracy: 0.5111\n",
      "Epoch 18/100\n",
      "208/208 [==============================] - 2s 11ms/step - loss: 0.0190 - accuracy: 0.9952 - val_loss: 0.9029 - val_accuracy: 0.5111\n",
      "Epoch 19/100\n",
      "208/208 [==============================] - 2s 11ms/step - loss: 0.0158 - accuracy: 0.9952 - val_loss: 0.8728 - val_accuracy: 0.6111\n",
      "Epoch 20/100\n",
      "208/208 [==============================] - 2s 11ms/step - loss: 0.0183 - accuracy: 0.9904 - val_loss: 0.8803 - val_accuracy: 0.5889\n",
      "Epoch 21/100\n",
      "208/208 [==============================] - 2s 11ms/step - loss: 0.0172 - accuracy: 0.9952 - val_loss: 0.8844 - val_accuracy: 0.5889\n",
      "Epoch 22/100\n",
      "208/208 [==============================] - 2s 11ms/step - loss: 0.0146 - accuracy: 0.9904 - val_loss: 0.8793 - val_accuracy: 0.5889\n",
      "Epoch 23/100\n",
      "208/208 [==============================] - 2s 11ms/step - loss: 0.0137 - accuracy: 0.9952 - val_loss: 0.8718 - val_accuracy: 0.5889\n",
      "Epoch 24/100\n",
      "208/208 [==============================] - 2s 11ms/step - loss: 0.0152 - accuracy: 0.9952 - val_loss: 0.8839 - val_accuracy: 0.5556\n",
      "Epoch 25/100\n",
      "208/208 [==============================] - 2s 11ms/step - loss: 0.0149 - accuracy: 0.9904 - val_loss: 0.8835 - val_accuracy: 0.5333\n",
      "Epoch 26/100\n",
      "208/208 [==============================] - 2s 11ms/step - loss: 0.0121 - accuracy: 0.9952 - val_loss: 0.8843 - val_accuracy: 0.5333\n",
      "Epoch 27/100\n",
      "208/208 [==============================] - 2s 10ms/step - loss: 0.0169 - accuracy: 0.9904 - val_loss: 0.8659 - val_accuracy: 0.6111\n",
      "Epoch 28/100\n",
      "208/208 [==============================] - 2s 11ms/step - loss: 0.0119 - accuracy: 0.9952 - val_loss: 0.8715 - val_accuracy: 0.5889\n",
      "Epoch 29/100\n",
      "208/208 [==============================] - 2s 11ms/step - loss: 0.0120 - accuracy: 0.9952 - val_loss: 0.8684 - val_accuracy: 0.5889\n",
      "Epoch 30/100\n",
      "208/208 [==============================] - 2s 11ms/step - loss: 0.0119 - accuracy: 0.9904 - val_loss: 0.8643 - val_accuracy: 0.6000\n",
      "Epoch 31/100\n",
      "208/208 [==============================] - 2s 11ms/step - loss: 0.0139 - accuracy: 0.9904 - val_loss: 0.8685 - val_accuracy: 0.5889\n",
      "Epoch 32/100\n",
      "208/208 [==============================] - 2s 11ms/step - loss: 0.0130 - accuracy: 0.9904 - val_loss: 0.8645 - val_accuracy: 0.5889\n",
      "Epoch 33/100\n",
      "208/208 [==============================] - 2s 10ms/step - loss: 0.0149 - accuracy: 0.9952 - val_loss: 0.8586 - val_accuracy: 0.6111\n",
      "Epoch 34/100\n",
      "208/208 [==============================] - 2s 11ms/step - loss: 0.0121 - accuracy: 0.9904 - val_loss: 0.8722 - val_accuracy: 0.5889\n",
      "Epoch 35/100\n",
      "208/208 [==============================] - 2s 11ms/step - loss: 0.0146 - accuracy: 0.9904 - val_loss: 0.8653 - val_accuracy: 0.5889\n",
      "Epoch 36/100\n",
      "208/208 [==============================] - 2s 11ms/step - loss: 0.0135 - accuracy: 0.9952 - val_loss: 0.8704 - val_accuracy: 0.5889\n",
      "Epoch 37/100\n",
      "208/208 [==============================] - 2s 11ms/step - loss: 0.0146 - accuracy: 0.9904 - val_loss: 0.8498 - val_accuracy: 0.6111\n",
      "Epoch 38/100\n",
      "208/208 [==============================] - 2s 11ms/step - loss: 0.0123 - accuracy: 0.9952 - val_loss: 0.8628 - val_accuracy: 0.5889\n",
      "Epoch 39/100\n",
      "208/208 [==============================] - 2s 11ms/step - loss: 0.0119 - accuracy: 0.9904 - val_loss: 0.8594 - val_accuracy: 0.5889\n",
      "Epoch 40/100\n",
      "208/208 [==============================] - 2s 11ms/step - loss: 0.0106 - accuracy: 0.9904 - val_loss: 0.8578 - val_accuracy: 0.5889\n",
      "Epoch 41/100\n",
      "208/208 [==============================] - 2s 11ms/step - loss: 0.0120 - accuracy: 0.9904 - val_loss: 0.8532 - val_accuracy: 0.6111\n",
      "Epoch 42/100\n",
      "208/208 [==============================] - 2s 11ms/step - loss: 0.0113 - accuracy: 0.9952 - val_loss: 0.8605 - val_accuracy: 0.5889\n",
      "Epoch 43/100\n",
      "208/208 [==============================] - 2s 11ms/step - loss: 0.0134 - accuracy: 0.9904 - val_loss: 0.8428 - val_accuracy: 0.6222\n",
      "Epoch 44/100\n",
      "208/208 [==============================] - 2s 11ms/step - loss: 0.0096 - accuracy: 0.9952 - val_loss: 0.8472 - val_accuracy: 0.6111\n",
      "Epoch 45/100\n",
      "208/208 [==============================] - 2s 11ms/step - loss: 0.0095 - accuracy: 0.9952 - val_loss: 0.8529 - val_accuracy: 0.6111\n",
      "Epoch 46/100\n",
      "208/208 [==============================] - 2s 11ms/step - loss: 0.0137 - accuracy: 0.9904 - val_loss: 0.8508 - val_accuracy: 0.6111\n",
      "Epoch 47/100\n",
      "208/208 [==============================] - 2s 11ms/step - loss: 0.0110 - accuracy: 0.9904 - val_loss: 0.8530 - val_accuracy: 0.6000\n",
      "Epoch 48/100\n",
      "208/208 [==============================] - 2s 11ms/step - loss: 0.0106 - accuracy: 0.9904 - val_loss: 0.8540 - val_accuracy: 0.5889\n",
      "Epoch 49/100\n",
      "208/208 [==============================] - 2s 12ms/step - loss: 0.0095 - accuracy: 0.9952 - val_loss: 0.8454 - val_accuracy: 0.6111\n",
      "Epoch 50/100\n",
      "208/208 [==============================] - 2s 10ms/step - loss: 0.0100 - accuracy: 0.9904 - val_loss: 0.8418 - val_accuracy: 0.6111\n",
      "Epoch 51/100\n",
      "208/208 [==============================] - 2s 11ms/step - loss: 0.0150 - accuracy: 0.9952 - val_loss: 0.8387 - val_accuracy: 0.6111\n",
      "Epoch 52/100\n",
      "208/208 [==============================] - 2s 11ms/step - loss: 0.0092 - accuracy: 0.9952 - val_loss: 0.8737 - val_accuracy: 0.5111\n",
      "Epoch 53/100\n",
      "208/208 [==============================] - 2s 10ms/step - loss: 0.0198 - accuracy: 0.9952 - val_loss: 0.8564 - val_accuracy: 0.5889\n",
      "Epoch 54/100\n",
      "208/208 [==============================] - 2s 11ms/step - loss: 0.0351 - accuracy: 0.9904 - val_loss: 0.8231 - val_accuracy: 0.6889\n",
      "Epoch 55/100\n",
      "208/208 [==============================] - 2s 11ms/step - loss: 0.0099 - accuracy: 0.9952 - val_loss: 0.8747 - val_accuracy: 0.5111\n",
      "Epoch 56/100\n",
      "208/208 [==============================] - 2s 11ms/step - loss: 0.0207 - accuracy: 0.9952 - val_loss: 0.8637 - val_accuracy: 0.5333\n",
      "Epoch 57/100\n"
     ]
    },
    {
     "name": "stdout",
     "output_type": "stream",
     "text": [
      "208/208 [==============================] - 2s 11ms/step - loss: 0.0228 - accuracy: 0.9952 - val_loss: 0.8182 - val_accuracy: 0.6889\n",
      "Epoch 58/100\n",
      "208/208 [==============================] - 2s 11ms/step - loss: 0.0203 - accuracy: 0.9952 - val_loss: 0.8366 - val_accuracy: 0.6111\n",
      "Epoch 59/100\n",
      "208/208 [==============================] - 2s 11ms/step - loss: 0.0074 - accuracy: 0.9952 - val_loss: 0.8678 - val_accuracy: 0.5111\n",
      "Epoch 60/100\n",
      "208/208 [==============================] - 2s 11ms/step - loss: 0.0128 - accuracy: 0.9952 - val_loss: 0.8552 - val_accuracy: 0.5667\n",
      "Epoch 61/100\n",
      "208/208 [==============================] - 2s 10ms/step - loss: 0.0093 - accuracy: 0.9952 - val_loss: 0.8251 - val_accuracy: 0.6222\n",
      "Epoch 62/100\n",
      "208/208 [==============================] - 2s 11ms/step - loss: 0.0113 - accuracy: 0.9952 - val_loss: 0.8246 - val_accuracy: 0.6222\n",
      "Epoch 63/100\n",
      "208/208 [==============================] - 2s 12ms/step - loss: 0.0141 - accuracy: 0.9904 - val_loss: 0.8327 - val_accuracy: 0.6111\n",
      "Epoch 64/100\n",
      "208/208 [==============================] - 2s 11ms/step - loss: 0.0085 - accuracy: 0.9952 - val_loss: 0.8218 - val_accuracy: 0.6444\n",
      "Epoch 65/100\n",
      "208/208 [==============================] - 2s 10ms/step - loss: 0.0113 - accuracy: 0.9952 - val_loss: 0.8250 - val_accuracy: 0.6222\n",
      "Epoch 66/100\n",
      "208/208 [==============================] - 2s 12ms/step - loss: 0.0166 - accuracy: 0.9904 - val_loss: 0.8469 - val_accuracy: 0.5889\n",
      "Epoch 67/100\n",
      "208/208 [==============================] - 2s 11ms/step - loss: 0.0096 - accuracy: 0.9952 - val_loss: 0.8209 - val_accuracy: 0.6333\n",
      "Epoch 68/100\n",
      "208/208 [==============================] - 2s 11ms/step - loss: 0.0090 - accuracy: 0.9952 - val_loss: 0.8150 - val_accuracy: 0.6556\n",
      "Epoch 69/100\n",
      "208/208 [==============================] - 2s 11ms/step - loss: 0.0111 - accuracy: 0.9952 - val_loss: 0.8222 - val_accuracy: 0.6222\n",
      "Epoch 70/100\n",
      "208/208 [==============================] - 2s 10ms/step - loss: 0.0079 - accuracy: 0.9952 - val_loss: 0.8285 - val_accuracy: 0.6111\n",
      "Epoch 71/100\n",
      "208/208 [==============================] - 2s 11ms/step - loss: 0.0108 - accuracy: 0.9952 - val_loss: 0.8217 - val_accuracy: 0.6222\n",
      "Epoch 72/100\n",
      "208/208 [==============================] - 2s 11ms/step - loss: 0.0089 - accuracy: 0.9952 - val_loss: 0.8236 - val_accuracy: 0.6111\n",
      "Epoch 73/100\n",
      "208/208 [==============================] - 2s 10ms/step - loss: 0.0096 - accuracy: 0.9952 - val_loss: 0.8257 - val_accuracy: 0.6111\n",
      "Epoch 74/100\n",
      "208/208 [==============================] - 2s 11ms/step - loss: 0.0078 - accuracy: 0.9952 - val_loss: 0.8150 - val_accuracy: 0.6556\n",
      "Epoch 75/100\n",
      "208/208 [==============================] - 2s 11ms/step - loss: 0.0100 - accuracy: 0.9952 - val_loss: 0.8242 - val_accuracy: 0.6111\n",
      "Epoch 76/100\n",
      "208/208 [==============================] - 2s 10ms/step - loss: 0.0128 - accuracy: 0.9952 - val_loss: 0.8219 - val_accuracy: 0.6111\n",
      "Epoch 77/100\n",
      "208/208 [==============================] - 2s 11ms/step - loss: 0.0090 - accuracy: 0.9952 - val_loss: 0.8166 - val_accuracy: 0.6222\n",
      "Epoch 78/100\n",
      "208/208 [==============================] - 2s 11ms/step - loss: 0.0078 - accuracy: 0.9952 - val_loss: 0.8356 - val_accuracy: 0.6000\n",
      "Epoch 79/100\n",
      "208/208 [==============================] - 2s 11ms/step - loss: 0.0114 - accuracy: 0.9952 - val_loss: 0.8116 - val_accuracy: 0.6556\n",
      "Epoch 80/100\n",
      "208/208 [==============================] - 2s 12ms/step - loss: 0.0122 - accuracy: 0.9952 - val_loss: 0.8118 - val_accuracy: 0.6444\n",
      "Epoch 81/100\n",
      "208/208 [==============================] - 2s 11ms/step - loss: 0.0085 - accuracy: 0.9952 - val_loss: 0.8217 - val_accuracy: 0.6111\n",
      "Epoch 82/100\n",
      "208/208 [==============================] - 2s 11ms/step - loss: 0.0165 - accuracy: 0.9952 - val_loss: 0.8292 - val_accuracy: 0.6111\n",
      "Epoch 83/100\n",
      "208/208 [==============================] - 2s 11ms/step - loss: 0.0145 - accuracy: 0.9904 - val_loss: 0.8018 - val_accuracy: 0.6556\n",
      "Epoch 84/100\n",
      "208/208 [==============================] - 2s 11ms/step - loss: 0.0132 - accuracy: 0.9952 - val_loss: 0.8089 - val_accuracy: 0.6556\n",
      "Epoch 85/100\n",
      "208/208 [==============================] - 2s 11ms/step - loss: 0.0113 - accuracy: 0.9952 - val_loss: 0.8305 - val_accuracy: 0.6111\n",
      "Epoch 86/100\n",
      "208/208 [==============================] - 2s 11ms/step - loss: 0.0093 - accuracy: 0.9952 - val_loss: 0.8070 - val_accuracy: 0.6556\n",
      "Epoch 87/100\n",
      "208/208 [==============================] - 2s 11ms/step - loss: 0.0100 - accuracy: 0.9952 - val_loss: 0.8055 - val_accuracy: 0.6556\n",
      "Epoch 88/100\n",
      "208/208 [==============================] - 2s 10ms/step - loss: 0.0125 - accuracy: 0.9904 - val_loss: 0.8137 - val_accuracy: 0.6111\n",
      "Epoch 89/100\n",
      "208/208 [==============================] - 2s 12ms/step - loss: 0.0086 - accuracy: 0.9904 - val_loss: 0.8078 - val_accuracy: 0.6333\n",
      "Epoch 90/100\n",
      "208/208 [==============================] - 2s 11ms/step - loss: 0.0094 - accuracy: 0.9952 - val_loss: 0.8107 - val_accuracy: 0.6222\n",
      "Epoch 91/100\n",
      "208/208 [==============================] - 2s 11ms/step - loss: 0.0097 - accuracy: 0.9904 - val_loss: 0.8136 - val_accuracy: 0.6111\n",
      "Epoch 92/100\n",
      "208/208 [==============================] - 2s 11ms/step - loss: 0.0091 - accuracy: 0.9952 - val_loss: 0.8113 - val_accuracy: 0.6111\n",
      "Epoch 93/100\n",
      "208/208 [==============================] - 2s 11ms/step - loss: 0.0119 - accuracy: 0.9904 - val_loss: 0.8043 - val_accuracy: 0.6556\n",
      "Epoch 94/100\n",
      "208/208 [==============================] - 2s 11ms/step - loss: 0.0075 - accuracy: 0.9952 - val_loss: 0.8190 - val_accuracy: 0.6111\n",
      "Epoch 95/100\n",
      "208/208 [==============================] - 2s 11ms/step - loss: 0.0116 - accuracy: 0.9952 - val_loss: 0.8044 - val_accuracy: 0.6333\n",
      "Epoch 96/100\n",
      "208/208 [==============================] - 2s 11ms/step - loss: 0.0147 - accuracy: 0.9952 - val_loss: 0.7956 - val_accuracy: 0.6667\n",
      "Epoch 97/100\n",
      "208/208 [==============================] - 2s 11ms/step - loss: 0.0207 - accuracy: 0.9904 - val_loss: 0.8353 - val_accuracy: 0.5778\n",
      "Epoch 98/100\n",
      "208/208 [==============================] - 2s 10ms/step - loss: 0.0119 - accuracy: 0.9952 - val_loss: 0.7933 - val_accuracy: 0.6667\n",
      "Epoch 99/100\n",
      "208/208 [==============================] - 2s 11ms/step - loss: 0.0147 - accuracy: 0.9952 - val_loss: 0.7996 - val_accuracy: 0.6556\n",
      "Epoch 100/100\n",
      "208/208 [==============================] - 2s 11ms/step - loss: 0.0186 - accuracy: 0.9904 - val_loss: 0.8215 - val_accuracy: 0.6111\n"
     ]
    },
    {
     "data": {
      "text/plain": [
       "<keras.callbacks.callbacks.History at 0x1708cb607f0>"
      ]
     },
     "execution_count": 39,
     "metadata": {},
     "output_type": "execute_result"
    }
   ],
   "source": [
    "#Training the model\n",
    "\n",
    "model.fit(train, y_train, epochs=100, validation_data=(X_valid, y_valid))"
   ]
  },
  {
   "cell_type": "code",
   "execution_count": 40,
   "metadata": {},
   "outputs": [
    {
     "name": "stdout",
     "output_type": "stream",
     "text": [
      "Done!\n"
     ]
    }
   ],
   "source": [
    "count = 0\n",
    "videoFile = \"Tom and Jerry 3.mp4\"\n",
    "cap = cv2.VideoCapture(videoFile)\n",
    "frameRate = cap.get(5) #frame rate\n",
    "x=1\n",
    "while(cap.isOpened()):\n",
    "    frameId = cap.get(1) #current frame number\n",
    "    ret, frame = cap.read()\n",
    "    if (ret != True):\n",
    "        break\n",
    "    if (frameId % math.floor(frameRate) == 0):\n",
    "        filename =\"test%d.jpg\" % count;count+=1\n",
    "        cv2.imwrite(filename, frame)\n",
    "cap.release()\n",
    "print (\"Done!\")"
   ]
  },
  {
   "cell_type": "code",
   "execution_count": 41,
   "metadata": {},
   "outputs": [],
   "source": [
    "test = pd.read_csv('test.csv')"
   ]
  },
  {
   "cell_type": "code",
   "execution_count": 42,
   "metadata": {},
   "outputs": [],
   "source": [
    "test_image = []\n",
    "for img_name in test.Image_ID:\n",
    "    img = plt.imread('' + img_name)\n",
    "    test_image.append(img)\n",
    "test_img = np.array(test_image)"
   ]
  },
  {
   "cell_type": "code",
   "execution_count": 44,
   "metadata": {},
   "outputs": [],
   "source": [
    "test_image = []\n",
    "for i in range(0,test_img.shape[0]):\n",
    "    a = resize(test_img[i], preserve_range=True, output_shape=(224,224)).astype(int)\n",
    "    test_image.append(a)\n",
    "test_image = np.array(test_image)"
   ]
  },
  {
   "cell_type": "code",
   "execution_count": 46,
   "metadata": {},
   "outputs": [],
   "source": [
    "# preprocessing the images\n",
    "test_image = preprocess_input(test_image, mode='tf')\n",
    "\n",
    "# extracting features from the images using pretrained model\n",
    "test_image = base_model.predict(test_image)\n",
    "\n",
    "# converting the images to 1-D form\n",
    "test_image = test_image.reshape(186, 7*7*512)\n",
    "\n",
    "# zero centered images\n",
    "test_image = test_image/test_image.max()"
   ]
  },
  {
   "cell_type": "code",
   "execution_count": 47,
   "metadata": {},
   "outputs": [],
   "source": [
    "predictions = model.predict_classes(test_image)"
   ]
  },
  {
   "cell_type": "code",
   "execution_count": 48,
   "metadata": {},
   "outputs": [
    {
     "name": "stdout",
     "output_type": "stream",
     "text": [
      "The screen time of JERRY is 5 seconds\n",
      "The screen time of TOM is 129 seconds\n"
     ]
    }
   ],
   "source": [
    "print(\"The screen time of JERRY is\", predictions[predictions==1].shape[0], \"seconds\")\n",
    "print(\"The screen time of TOM is\", predictions[predictions==2].shape[0], \"seconds\")"
   ]
  },
  {
   "cell_type": "code",
   "execution_count": null,
   "metadata": {},
   "outputs": [],
   "source": []
  }
 ],
 "metadata": {
  "kernelspec": {
   "display_name": "Python 3",
   "language": "python",
   "name": "python3"
  },
  "language_info": {
   "codemirror_mode": {
    "name": "ipython",
    "version": 3
   },
   "file_extension": ".py",
   "mimetype": "text/x-python",
   "name": "python",
   "nbconvert_exporter": "python",
   "pygments_lexer": "ipython3",
   "version": "3.6.9"
  }
 },
 "nbformat": 4,
 "nbformat_minor": 2
}
