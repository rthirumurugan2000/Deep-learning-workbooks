{
  "nbformat": 4,
  "nbformat_minor": 0,
  "metadata": {
    "colab": {
      "name": "Tensorflow Code Basics",
      "provenance": [],
      "collapsed_sections": []
    },
    "kernelspec": {
      "name": "python3",
      "display_name": "Python 3"
    }
  },
  "cells": [
    {
      "cell_type": "code",
      "metadata": {
        "id": "lhyS2rZGk2nr",
        "colab_type": "code",
        "colab": {
          "base_uri": "https://localhost:8080/",
          "height": 374
        },
        "outputId": "23c1020d-728e-4bb4-9311-68411955c337"
      },
      "source": [
        "!pip install tensorflow"
      ],
      "execution_count": 15,
      "outputs": [
        {
          "output_type": "stream",
          "text": [
            "Requirement already satisfied: tensorflow in /usr/local/lib/python3.6/dist-packages (1.15.0)\n",
            "Requirement already satisfied: absl-py>=0.7.0 in /usr/local/lib/python3.6/dist-packages (from tensorflow) (0.8.1)\n",
            "Requirement already satisfied: six>=1.10.0 in /usr/local/lib/python3.6/dist-packages (from tensorflow) (1.12.0)\n",
            "Requirement already satisfied: wrapt>=1.11.1 in /usr/local/lib/python3.6/dist-packages (from tensorflow) (1.11.2)\n",
            "Requirement already satisfied: gast==0.2.2 in /usr/local/lib/python3.6/dist-packages (from tensorflow) (0.2.2)\n",
            "Requirement already satisfied: opt-einsum>=2.3.2 in /usr/local/lib/python3.6/dist-packages (from tensorflow) (3.1.0)\n",
            "Requirement already satisfied: protobuf>=3.6.1 in /usr/local/lib/python3.6/dist-packages (from tensorflow) (3.10.0)\n",
            "Requirement already satisfied: google-pasta>=0.1.6 in /usr/local/lib/python3.6/dist-packages (from tensorflow) (0.1.8)\n",
            "Requirement already satisfied: tensorflow-estimator==1.15.1 in /usr/local/lib/python3.6/dist-packages (from tensorflow) (1.15.1)\n",
            "Requirement already satisfied: tensorboard<1.16.0,>=1.15.0 in /usr/local/lib/python3.6/dist-packages (from tensorflow) (1.15.0)\n",
            "Requirement already satisfied: termcolor>=1.1.0 in /usr/local/lib/python3.6/dist-packages (from tensorflow) (1.1.0)\n",
            "Requirement already satisfied: keras-preprocessing>=1.0.5 in /usr/local/lib/python3.6/dist-packages (from tensorflow) (1.1.0)\n",
            "Requirement already satisfied: wheel>=0.26 in /usr/local/lib/python3.6/dist-packages (from tensorflow) (0.33.6)\n",
            "Requirement already satisfied: grpcio>=1.8.6 in /usr/local/lib/python3.6/dist-packages (from tensorflow) (1.15.0)\n",
            "Requirement already satisfied: astor>=0.6.0 in /usr/local/lib/python3.6/dist-packages (from tensorflow) (0.8.0)\n",
            "Requirement already satisfied: numpy<2.0,>=1.16.0 in /usr/local/lib/python3.6/dist-packages (from tensorflow) (1.17.4)\n",
            "Requirement already satisfied: keras-applications>=1.0.8 in /usr/local/lib/python3.6/dist-packages (from tensorflow) (1.0.8)\n",
            "Requirement already satisfied: setuptools in /usr/local/lib/python3.6/dist-packages (from protobuf>=3.6.1->tensorflow) (41.6.0)\n",
            "Requirement already satisfied: markdown>=2.6.8 in /usr/local/lib/python3.6/dist-packages (from tensorboard<1.16.0,>=1.15.0->tensorflow) (3.1.1)\n",
            "Requirement already satisfied: werkzeug>=0.11.15 in /usr/local/lib/python3.6/dist-packages (from tensorboard<1.16.0,>=1.15.0->tensorflow) (0.16.0)\n",
            "Requirement already satisfied: h5py in /usr/local/lib/python3.6/dist-packages (from keras-applications>=1.0.8->tensorflow) (2.8.0)\n"
          ],
          "name": "stdout"
        }
      ]
    },
    {
      "cell_type": "markdown",
      "metadata": {
        "id": "9-7jLNYstGSi",
        "colab_type": "text"
      },
      "source": [
        "**TENSORFLOW CODE BASICS:**\n",
        "\n",
        "*Thirumurugan Ramar*"
      ]
    },
    {
      "cell_type": "code",
      "metadata": {
        "id": "zNrAHzpAlDB2",
        "colab_type": "code",
        "colab": {
          "base_uri": "https://localhost:8080/",
          "height": 34
        },
        "outputId": "c872212b-2aa7-40cc-c03d-dd445db0e3dc"
      },
      "source": [
        "import tensorflow as tf\n",
        "print(tf.__version__)"
      ],
      "execution_count": 16,
      "outputs": [
        {
          "output_type": "stream",
          "text": [
            "1.15.0\n"
          ],
          "name": "stdout"
        }
      ]
    },
    {
      "cell_type": "code",
      "metadata": {
        "id": "vnDBorM3lqFs",
        "colab_type": "code",
        "colab": {}
      },
      "source": [
        "a=tf.constant(5)\n",
        "b=tf.constant(2)\n",
        "c=tf.constant(3)"
      ],
      "execution_count": 0,
      "outputs": []
    },
    {
      "cell_type": "code",
      "metadata": {
        "id": "HZMMEkY3mLZs",
        "colab_type": "code",
        "colab": {}
      },
      "source": [
        "d=tf.multiply(a,b)\n",
        "e=tf.add(c,b)\n",
        "f=tf.subtract(d,e)\n"
      ],
      "execution_count": 0,
      "outputs": []
    },
    {
      "cell_type": "code",
      "metadata": {
        "id": "kC0XE3pwmcK5",
        "colab_type": "code",
        "colab": {
          "base_uri": "https://localhost:8080/",
          "height": 34
        },
        "outputId": "44ab0da0-add2-454e-8f8d-d063d38a0101"
      },
      "source": [
        "sess=tf.Session()\n",
        "out=sess.run(f)\n",
        "sess.close()\n",
        "print(out)\n"
      ],
      "execution_count": 19,
      "outputs": [
        {
          "output_type": "stream",
          "text": [
            "5\n"
          ],
          "name": "stdout"
        }
      ]
    },
    {
      "cell_type": "markdown",
      "metadata": {
        "id": "i_5s38xQof5Z",
        "colab_type": "text"
      },
      "source": [
        ""
      ]
    },
    {
      "cell_type": "markdown",
      "metadata": {
        "id": "nFklUDZDojf4",
        "colab_type": "text"
      },
      "source": [
        "**Placeholders**"
      ]
    },
    {
      "cell_type": "code",
      "metadata": {
        "id": "VBrje9LvomFR",
        "colab_type": "code",
        "colab": {}
      },
      "source": [
        "a1=tf.placeholder(tf.float32)\n",
        "b1=tf.placeholder(tf.float32)\n",
        "adder=a1+b1"
      ],
      "execution_count": 0,
      "outputs": []
    },
    {
      "cell_type": "code",
      "metadata": {
        "id": "VD88vZeYpHfI",
        "colab_type": "code",
        "colab": {
          "base_uri": "https://localhost:8080/",
          "height": 34
        },
        "outputId": "08cb2a8f-2304-4c72-af53-3834c2ae7947"
      },
      "source": [
        "sess=tf.Session()\n",
        "print(sess.run(adder,{a1:[1,3],b1:[2,4]}))\n"
      ],
      "execution_count": 21,
      "outputs": [
        {
          "output_type": "stream",
          "text": [
            "[3. 7.]\n"
          ],
          "name": "stdout"
        }
      ]
    },
    {
      "cell_type": "markdown",
      "metadata": {
        "id": "j4QXeC8ytZ76",
        "colab_type": "text"
      },
      "source": [
        "**Variables**"
      ]
    },
    {
      "cell_type": "code",
      "metadata": {
        "id": "XYdQJZtupxv-",
        "colab_type": "code",
        "colab": {
          "base_uri": "https://localhost:8080/",
          "height": 34
        },
        "outputId": "3cc540b1-46e6-4806-d8de-2fb714b298d6"
      },
      "source": [
        "w=tf.Variable([0.3],tf.float32)\n",
        "b=tf.Variable([-0.3],tf.float32)\n",
        "x=tf.placeholder(tf.float32)\n",
        "linear_model = w* x + b\n",
        "# The GLOBAL variables tensor needs to be initialised with values. The below function does that.\n",
        "init = tf.global_variables_initializer()\n",
        "sess.run(init)\n",
        "print(sess.run(linear_model, {x:[1,2,3,4]}))"
      ],
      "execution_count": 22,
      "outputs": [
        {
          "output_type": "stream",
          "text": [
            "[0.         0.3        0.6        0.90000004]\n"
          ],
          "name": "stdout"
        }
      ]
    },
    {
      "cell_type": "markdown",
      "metadata": {
        "id": "OgQIPXn1F-YE",
        "colab_type": "text"
      },
      "source": [
        "**Loss** **function**"
      ]
    },
    {
      "cell_type": "code",
      "metadata": {
        "id": "iW_YURJ9s7xW",
        "colab_type": "code",
        "colab": {}
      },
      "source": [
        "y = tf.placeholder(tf.float32)\n",
        "squared_deltas = tf.square(linear_model - y)\n",
        "loss = tf.reduce_sum(squared_deltas)"
      ],
      "execution_count": 0,
      "outputs": []
    },
    {
      "cell_type": "code",
      "metadata": {
        "id": "uxHtDzy6GgNl",
        "colab_type": "code",
        "colab": {
          "base_uri": "https://localhost:8080/",
          "height": 34
        },
        "outputId": "e0582a92-dd55-413b-afce-46cadcea2cb0"
      },
      "source": [
        "print(sess.run(loss, {x:[1,2,3,4], y:[0,-1,-2,-3,]}))"
      ],
      "execution_count": 24,
      "outputs": [
        {
          "output_type": "stream",
          "text": [
            "23.66\n"
          ],
          "name": "stdout"
        }
      ]
    },
    {
      "cell_type": "markdown",
      "metadata": {
        "id": "fZId9JrGGsvN",
        "colab_type": "text"
      },
      "source": [
        "**Minimize loss function using gradientdescent optimizer**"
      ]
    },
    {
      "cell_type": "code",
      "metadata": {
        "id": "TNtUCX6iGp4P",
        "colab_type": "code",
        "colab": {}
      },
      "source": [
        "optimizer = tf.train.GradientDescentOptimizer(0.01)"
      ],
      "execution_count": 0,
      "outputs": []
    },
    {
      "cell_type": "code",
      "metadata": {
        "id": "2TPm63t4H_LN",
        "colab_type": "code",
        "colab": {
          "base_uri": "https://localhost:8080/",
          "height": 34
        },
        "outputId": "e94a8b1a-4f0a-4606-8100-fb4b06f051fb"
      },
      "source": [
        "train = optimizer.minimize(loss)\n",
        "sess.run(init)\n",
        "for i in range (1000):\n",
        "    sess.run(train, {x:[1,2,3,4], y:[0,-1,-2,-3]})\n",
        "print(sess.run([w, b]))"
      ],
      "execution_count": 28,
      "outputs": [
        {
          "output_type": "stream",
          "text": [
            "[array([-0.9999969], dtype=float32), array([0.9999908], dtype=float32)]\n"
          ],
          "name": "stdout"
        }
      ]
    },
    {
      "cell_type": "markdown",
      "metadata": {
        "id": "dKouT47pKS7f",
        "colab_type": "text"
      },
      "source": [
        "**Logical-And implementation**"
      ]
    },
    {
      "cell_type": "code",
      "metadata": {
        "id": "muU_eBS8IK_S",
        "colab_type": "code",
        "colab": {}
      },
      "source": [
        "T , F = 1., -1.\n",
        "bias = 1."
      ],
      "execution_count": 0,
      "outputs": []
    },
    {
      "cell_type": "code",
      "metadata": {
        "id": "96NXkLD0Kcz1",
        "colab_type": "code",
        "colab": {}
      },
      "source": [
        "train_in = [\n",
        "    [T, T, bias],\n",
        "    [T, F, bias],\n",
        "    [F, T, bias],\n",
        "    [F, F, bias],\n",
        "]"
      ],
      "execution_count": 0,
      "outputs": []
    },
    {
      "cell_type": "code",
      "metadata": {
        "id": "R13TlgPMKfRI",
        "colab_type": "code",
        "colab": {}
      },
      "source": [
        "train_out = [\n",
        "    [T],\n",
        "    [F],\n",
        "    [F],\n",
        "    [F],\n",
        "]"
      ],
      "execution_count": 0,
      "outputs": []
    },
    {
      "cell_type": "code",
      "metadata": {
        "id": "Y74GKtgrKiYG",
        "colab_type": "code",
        "colab": {}
      },
      "source": [
        "W = tf.Variable(tf.random_normal([3,1]))"
      ],
      "execution_count": 0,
      "outputs": []
    },
    {
      "cell_type": "code",
      "metadata": {
        "id": "96h4HwfdKph7",
        "colab_type": "code",
        "colab": {}
      },
      "source": [
        "# Defining step (activation) function\n",
        "def step(x):\n",
        "    is_greater = tf.greater(x, 0)\n",
        "    as_float = tf.to_float(is_greater)\n",
        "    doubled = tf.multiply(as_float, 2)\n",
        "    return tf.subtract(doubled, 1)"
      ],
      "execution_count": 0,
      "outputs": []
    },
    {
      "cell_type": "code",
      "metadata": {
        "id": "fWCKjKonK2xS",
        "colab_type": "code",
        "colab": {
          "base_uri": "https://localhost:8080/",
          "height": 88
        },
        "outputId": "da38d72a-c89d-4276-d1b5-6c1d134ba974"
      },
      "source": [
        "output = step(tf.matmul (train_in, W))"
      ],
      "execution_count": 37,
      "outputs": [
        {
          "output_type": "stream",
          "text": [
            "WARNING:tensorflow:From <ipython-input-36-4a9aa1ab198c>:3: to_float (from tensorflow.python.ops.math_ops) is deprecated and will be removed in a future version.\n",
            "Instructions for updating:\n",
            "Use `tf.cast` instead.\n"
          ],
          "name": "stdout"
        }
      ]
    },
    {
      "cell_type": "code",
      "metadata": {
        "id": "8P3T2fAGK7gJ",
        "colab_type": "code",
        "colab": {}
      },
      "source": [
        "error = tf.subtract(train_out, output)\n",
        "mse = tf.reduce_mean(tf.square(error))\n",
        "delta = tf.matmul(train_in, error, transpose_a=True)\n",
        "train = tf.assign(W, tf.add(w,delta))\n",
        "sess = tf.Session()\n",
        "sess.run(tf.global_variables_initializer())\n",
        "err, target = 1, 0"
      ],
      "execution_count": 0,
      "outputs": []
    },
    {
      "cell_type": "code",
      "metadata": {
        "id": "lKq4uRBILRN3",
        "colab_type": "code",
        "colab": {
          "base_uri": "https://localhost:8080/",
          "height": 187
        },
        "outputId": "f21f713c-8ae9-4721-8dd1-16069eb42972"
      },
      "source": [
        "# Number of cycles required to reduce the error to 0\n",
        "epoch, max_epoch = 0, 10\n",
        "\n",
        "while err > target and epoch < max_epoch:\n",
        "    epoch += 1\n",
        "    err, _= sess.run([mse, train])\n",
        "    print('epoch: ', epoch, 'mse: ', err)"
      ],
      "execution_count": 39,
      "outputs": [
        {
          "output_type": "stream",
          "text": [
            "epoch:  1 mse:  2.0\n",
            "epoch:  2 mse:  1.0\n",
            "epoch:  3 mse:  2.0\n",
            "epoch:  4 mse:  1.0\n",
            "epoch:  5 mse:  2.0\n",
            "epoch:  6 mse:  1.0\n",
            "epoch:  7 mse:  2.0\n",
            "epoch:  8 mse:  1.0\n",
            "epoch:  9 mse:  2.0\n",
            "epoch:  10 mse:  1.0\n"
          ],
          "name": "stdout"
        }
      ]
    },
    {
      "cell_type": "code",
      "metadata": {
        "id": "etudVQ4WLWAZ",
        "colab_type": "code",
        "colab": {}
      },
      "source": [
        ""
      ],
      "execution_count": 0,
      "outputs": []
    }
  ]
}